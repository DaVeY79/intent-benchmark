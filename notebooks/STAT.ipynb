{
 "cells": [
  {
   "cell_type": "code",
   "execution_count": 3,
   "metadata": {
    "colab": {
     "autoexec": {
      "startup": false,
      "wait_interval": 0
     },
     "base_uri": "https://localhost:8080/",
     "height": 2451,
     "output_extras": [
      {
       "item_id": 33
      },
      {
       "item_id": 59
      },
      {
       "item_id": 156
      },
      {
       "item_id": 189
      }
     ]
    },
    "colab_type": "code",
    "executionInfo": {
     "elapsed": 308380,
     "status": "ok",
     "timestamp": 1520844459352,
     "user": {
      "displayName": "RAUNAK ROBINKUMAR AGARWAL 1540239",
      "photoUrl": "https://lh3.googleusercontent.com/a/default-user=s128",
      "userId": "109577210923723476478"
     },
     "user_tz": -330
    },
    "id": "yWf9slbnmsrl",
    "outputId": "b5e6cd73-f10e-44f0-e54d-d436293fa314"
   },
   "outputs": [
    {
     "name": "stdout",
     "output_type": "stream",
     "text": [
      "Collecting shorttext\n",
      "  Downloading shorttext-0.6.0.tar.gz (86kB)\n",
      "\u001b[K    100% |████████████████████████████████| 92kB 2.3MB/s \n",
      "\u001b[?25hCollecting gensim>=3.2.0 (from shorttext)\n",
      "  Downloading gensim-3.4.0-cp27-cp27mu-manylinux1_x86_64.whl (22.6MB)\n",
      "\u001b[K    100% |████████████████████████████████| 22.6MB 55kB/s \n",
      "\u001b[?25hCollecting keras>=2.0.0 (from shorttext)\n",
      "  Downloading Keras-2.1.5-py2.py3-none-any.whl (334kB)\n",
      "\u001b[K    100% |████████████████████████████████| 337kB 3.6MB/s \n",
      "\u001b[?25hRequirement already satisfied: numpy>=1.11.3 in /usr/local/lib/python2.7/dist-packages (from shorttext)\n",
      "Requirement already satisfied: pandas in /usr/local/lib/python2.7/dist-packages (from shorttext)\n",
      "Collecting pulp (from shorttext)\n",
      "  Downloading PuLP-1.6.8.tar.gz (13.5MB)\n",
      "\u001b[K    100% |████████████████████████████████| 13.5MB 94kB/s \n",
      "\u001b[?25hRequirement already satisfied: scikit-learn in /usr/local/lib/python2.7/dist-packages (from shorttext)\n",
      "Requirement already satisfied: scipy>=0.18.1 in /usr/local/lib/python2.7/dist-packages (from shorttext)\n",
      "Collecting spacy>=1.7.0 (from shorttext)\n",
      "  Downloading spacy-2.0.9.tar.gz (17.5MB)\n",
      "\u001b[K    100% |████████████████████████████████| 17.5MB 71kB/s \n",
      "\u001b[?25hCollecting stemming (from shorttext)\n",
      "  Downloading stemming-1.0.1.zip\n",
      "Collecting smart-open>=1.2.1 (from gensim>=3.2.0->shorttext)\n",
      "  Downloading smart_open-1.5.6.tar.gz\n",
      "Requirement already satisfied: six>=1.5.0 in /usr/local/lib/python2.7/dist-packages (from gensim>=3.2.0->shorttext)\n",
      "Requirement already satisfied: pyyaml in /usr/local/lib/python2.7/dist-packages (from keras>=2.0.0->shorttext)\n",
      "Requirement already satisfied: pytz>=2011k in /usr/local/lib/python2.7/dist-packages (from pandas->shorttext)\n",
      "Requirement already satisfied: python-dateutil in /usr/local/lib/python2.7/dist-packages (from pandas->shorttext)\n",
      "Requirement already satisfied: pyparsing>=2.0.1 in /usr/local/lib/python2.7/dist-packages (from pulp->shorttext)\n",
      "Collecting cymem<1.32,>=1.30 (from spacy>=1.7.0->shorttext)\n",
      "  Downloading cymem-1.31.2-cp27-cp27mu-manylinux1_x86_64.whl (66kB)\n",
      "\u001b[K    100% |████████████████████████████████| 71kB 8.4MB/s \n",
      "\u001b[?25hRequirement already satisfied: dill<0.3,>=0.2 in /usr/local/lib/python2.7/dist-packages (from spacy>=1.7.0->shorttext)\n",
      "Collecting ftfy<5.0.0,>=4.4.2 (from spacy>=1.7.0->shorttext)\n",
      "  Downloading ftfy-4.4.3.tar.gz (50kB)\n",
      "\u001b[K    100% |████████████████████████████████| 51kB 8.1MB/s \n",
      "\u001b[?25hCollecting html5lib==1.0b8 (from spacy>=1.7.0->shorttext)\n",
      "  Downloading html5lib-1.0b8.tar.gz (889kB)\n",
      "\u001b[K    100% |████████████████████████████████| 890kB 1.3MB/s \n",
      "\u001b[?25hCollecting msgpack-numpy==0.4.1 (from spacy>=1.7.0->shorttext)\n",
      "  Downloading msgpack_numpy-0.4.1-py2.py3-none-any.whl\n",
      "Collecting msgpack-python==0.5.4 (from spacy>=1.7.0->shorttext)\n",
      "  Downloading msgpack-python-0.5.4.tar.gz\n",
      "Collecting murmurhash<0.29,>=0.28 (from spacy>=1.7.0->shorttext)\n",
      "  Downloading murmurhash-0.28.0.tar.gz\n",
      "Collecting pathlib (from spacy>=1.7.0->shorttext)\n",
      "  Downloading pathlib-1.0.1.tar.gz (49kB)\n",
      "\u001b[K    100% |████████████████████████████████| 51kB 5.2MB/s \n",
      "\u001b[?25hCollecting plac<1.0.0,>=0.9.6 (from spacy>=1.7.0->shorttext)\n",
      "  Downloading plac-0.9.6-py2.py3-none-any.whl\n",
      "Collecting preshed<2.0.0,>=1.0.0 (from spacy>=1.7.0->shorttext)\n",
      "  Downloading preshed-1.0.0.tar.gz (89kB)\n",
      "\u001b[K    100% |████████████████████████████████| 92kB 9.0MB/s \n",
      "\u001b[?25hCollecting regex==2017.4.5 (from spacy>=1.7.0->shorttext)\n",
      "  Downloading regex-2017.04.05.tar.gz (601kB)\n",
      "\u001b[K    100% |████████████████████████████████| 604kB 1.7MB/s \n",
      "\u001b[?25hRequirement already satisfied: requests<3.0.0,>=2.13.0 in /usr/local/lib/python2.7/dist-packages (from spacy>=1.7.0->shorttext)\n",
      "Collecting thinc<6.11.0,>=6.10.1 (from spacy>=1.7.0->shorttext)\n",
      "  Downloading thinc-6.10.2.tar.gz (1.2MB)\n",
      "\u001b[K    100% |████████████████████████████████| 1.2MB 920kB/s \n",
      "\u001b[?25hCollecting ujson>=1.35 (from spacy>=1.7.0->shorttext)\n",
      "  Downloading ujson-1.35.tar.gz (192kB)\n",
      "\u001b[K    100% |████████████████████████████████| 194kB 5.7MB/s \n",
      "\u001b[?25hCollecting boto3 (from smart-open>=1.2.1->gensim>=3.2.0->shorttext)\n",
      "  Downloading boto3-1.6.6-py2.py3-none-any.whl (128kB)\n",
      "\u001b[K    100% |████████████████████████████████| 133kB 7.9MB/s \n",
      "\u001b[?25hCollecting boto>=2.32 (from smart-open>=1.2.1->gensim>=3.2.0->shorttext)\n",
      "  Downloading boto-2.48.0-py2.py3-none-any.whl (1.4MB)\n",
      "\u001b[K    100% |████████████████████████████████| 1.4MB 860kB/s \n",
      "\u001b[?25hCollecting bz2file (from smart-open>=1.2.1->gensim>=3.2.0->shorttext)\n",
      "  Downloading bz2file-0.98.tar.gz\n",
      "Requirement already satisfied: wcwidth in /usr/local/lib/python2.7/dist-packages (from ftfy<5.0.0,>=4.4.2->spacy>=1.7.0->shorttext)\n",
      "Requirement already satisfied: idna<2.7,>=2.5 in /usr/local/lib/python2.7/dist-packages (from requests<3.0.0,>=2.13.0->spacy>=1.7.0->shorttext)\n",
      "Requirement already satisfied: urllib3<1.23,>=1.21.1 in /usr/local/lib/python2.7/dist-packages (from requests<3.0.0,>=2.13.0->spacy>=1.7.0->shorttext)\n",
      "Requirement already satisfied: certifi>=2017.4.17 in /usr/local/lib/python2.7/dist-packages (from requests<3.0.0,>=2.13.0->spacy>=1.7.0->shorttext)\n",
      "Requirement already satisfied: chardet<3.1.0,>=3.0.2 in /usr/local/lib/python2.7/dist-packages (from requests<3.0.0,>=2.13.0->spacy>=1.7.0->shorttext)\n",
      "Collecting cytoolz<0.9,>=0.8 (from thinc<6.11.0,>=6.10.1->spacy>=1.7.0->shorttext)\n",
      "  Downloading cytoolz-0.8.2.tar.gz (386kB)\n",
      "\u001b[K    100% |████████████████████████████████| 389kB 3.0MB/s \n",
      "\u001b[?25hRequirement already satisfied: termcolor in /usr/local/lib/python2.7/dist-packages (from thinc<6.11.0,>=6.10.1->spacy>=1.7.0->shorttext)\n",
      "Collecting tqdm<5.0.0,>=4.10.0 (from thinc<6.11.0,>=6.10.1->spacy>=1.7.0->shorttext)\n",
      "  Downloading tqdm-4.19.6-py2.py3-none-any.whl (52kB)\n",
      "\u001b[K    100% |████████████████████████████████| 61kB 7.7MB/s \n",
      "\u001b[?25hCollecting wrapt (from thinc<6.11.0,>=6.10.1->spacy>=1.7.0->shorttext)\n",
      "  Downloading wrapt-1.10.11.tar.gz\n",
      "Collecting jmespath<1.0.0,>=0.7.1 (from boto3->smart-open>=1.2.1->gensim>=3.2.0->shorttext)\n",
      "  Downloading jmespath-0.9.3-py2.py3-none-any.whl\n",
      "Collecting botocore<1.10.0,>=1.9.6 (from boto3->smart-open>=1.2.1->gensim>=3.2.0->shorttext)\n",
      "  Downloading botocore-1.9.6-py2.py3-none-any.whl (4.1MB)\n",
      "\u001b[K    100% |████████████████████████████████| 4.1MB 296kB/s \n",
      "\u001b[?25hCollecting s3transfer<0.2.0,>=0.1.10 (from boto3->smart-open>=1.2.1->gensim>=3.2.0->shorttext)\n",
      "  Downloading s3transfer-0.1.13-py2.py3-none-any.whl (59kB)\n",
      "\u001b[K    100% |████████████████████████████████| 61kB 9.6MB/s \n",
      "\u001b[?25hCollecting toolz>=0.8.0 (from cytoolz<0.9,>=0.8->thinc<6.11.0,>=6.10.1->spacy>=1.7.0->shorttext)\n",
      "  Downloading toolz-0.9.0.tar.gz (45kB)\n",
      "\u001b[K    100% |████████████████████████████████| 51kB 6.5MB/s \n",
      "\u001b[?25hCollecting docutils>=0.10 (from botocore<1.10.0,>=1.9.6->boto3->smart-open>=1.2.1->gensim>=3.2.0->shorttext)\n",
      "  Downloading docutils-0.14-py2-none-any.whl (543kB)\n",
      "\u001b[K    100% |████████████████████████████████| 552kB 2.1MB/s \n",
      "\u001b[?25hRequirement already satisfied: futures<4.0.0,>=2.2.0; python_version == \"2.6\" or python_version == \"2.7\" in /usr/local/lib/python2.7/dist-packages (from s3transfer<0.2.0,>=0.1.10->boto3->smart-open>=1.2.1->gensim>=3.2.0->shorttext)\n",
      "Building wheels for collected packages: shorttext, pulp, spacy, stemming, smart-open, ftfy, html5lib, msgpack-python, murmurhash, pathlib, preshed, regex, thinc, ujson, bz2file, cytoolz, wrapt, toolz\n",
      "  Running setup.py bdist_wheel for shorttext ... \u001b[?25ldone\n",
      "\u001b[?25h  Stored in directory: /content/.cache/pip/wheels/bd/4f/72/02ae21073eb13d86e3fce2a1800b06af26abf0f65ff7782abd\n",
      "  Running setup.py bdist_wheel for pulp ... \u001b[?25ldone\n",
      "\u001b[?25h  Stored in directory: /content/.cache/pip/wheels/d0/73/a3/85621bee86fa3dc23ddc3e0b19d8dcf58e3bc232ccd05793ed\n",
      "  Running setup.py bdist_wheel for spacy ... \u001b[?25ldone\n",
      "\u001b[?25h  Stored in directory: /content/.cache/pip/wheels/0a/7a/92/23f94d6a3e10192bdffa2d20836e28271801b459915c568049\n",
      "  Running setup.py bdist_wheel for stemming ... \u001b[?25ldone\n",
      "\u001b[?25h  Stored in directory: /content/.cache/pip/wheels/3b/fd/d7/a5c5225045c4856ac54a08feace1a9b262fa385ac0fdfd9155\n",
      "  Running setup.py bdist_wheel for smart-open ... \u001b[?25ldone\n",
      "\u001b[?25h  Stored in directory: /content/.cache/pip/wheels/36/48/35/97efc2bd1b233627131c9a936c9de23681846db707b907d353\n",
      "  Running setup.py bdist_wheel for ftfy ... \u001b[?25ldone\n",
      "\u001b[?25h  Stored in directory: /content/.cache/pip/wheels/ae/d7/4c/339066248431397227741c7fdc80ad85826188ee9b0c24b4c7\n",
      "  Running setup.py bdist_wheel for html5lib ... \u001b[?25ldone\n",
      "\u001b[?25h  Stored in directory: /content/.cache/pip/wheels/d4/d1/0b/a6b6f9f204af55c9bb8c97eae2a78b690b7150a7b850bb9403\n",
      "  Running setup.py bdist_wheel for msgpack-python ... \u001b[?25ldone\n",
      "\u001b[?25h  Stored in directory: /content/.cache/pip/wheels/49/fc/5d/07243edfc74536e0776f3f8901418e7596de0e3b887dd17d86\n",
      "  Running setup.py bdist_wheel for murmurhash ... \u001b[?25ldone\n",
      "\u001b[?25h  Stored in directory: /content/.cache/pip/wheels/67/30/e2/ef52a408eda4b23581669abfd1c1516a931d9e53f2e7616cb9\n",
      "  Running setup.py bdist_wheel for pathlib ... \u001b[?25ldone\n",
      "\u001b[?25h  Stored in directory: /content/.cache/pip/wheels/2a/23/a5/d8803db5d631e9f391fe6defe982a238bf5483062eeb34e841\n",
      "  Running setup.py bdist_wheel for preshed ... \u001b[?25ldone\n",
      "\u001b[?25h  Stored in directory: /content/.cache/pip/wheels/97/64/22/20fabf1f51039b799e64e46d0381b023cfdbe159c349d7c135\n",
      "  Running setup.py bdist_wheel for regex ... \u001b[?25ldone\n",
      "\u001b[?25h  Stored in directory: /content/.cache/pip/wheels/28/20/68/c71f468f76d9bd81730a7633ace0ad30507cf99166314109a1\n"
     ]
    },
    {
     "name": "stdout",
     "output_type": "stream",
     "text": [
      "  Running setup.py bdist_wheel for thinc ... \u001b[?25l|\b \b/\b \b-\b \b\\\b \b|\b \b/\b \b-\b \b\\\b \b|\b \b/\b \b-\b \b\\\b \b|\b \b/\b \b-\b \b\\\b \bdone\n",
      "\u001b[?25h  Stored in directory: /content/.cache/pip/wheels/f8/fc/92/3bb08540cc5ac05df781005e686273adcd97af91ca2c032154\n",
      "  Running setup.py bdist_wheel for ujson ... \u001b[?25l-\b \b\\\b \b|\b \b/\b \b-\b \bdone\n",
      "\u001b[?25h  Stored in directory: /content/.cache/pip/wheels/9e/9b/d0/df92653bb5b2664c15d8ee5b99e3f2eb08a034444db8922b2f\n",
      "  Running setup.py bdist_wheel for bz2file ... \u001b[?25l-\b \bdone\n",
      "\u001b[?25h  Stored in directory: /content/.cache/pip/wheels/31/9c/20/996d65ca104cbca940b1b053299b68459391c01c774d073126\n",
      "  Running setup.py bdist_wheel for cytoolz ... \u001b[?25l-\b \b\\\b \b|\b \b/\b \b-\b \b\\\b \b|\b \bdone\n",
      "\u001b[?25h  Stored in directory: /content/.cache/pip/wheels/52/92/ed/661ecb7a67b42b21fc3dea140abb9ae9b8e94e72f0b3aff6c1\n",
      "  Running setup.py bdist_wheel for wrapt ... \u001b[?25l-\b \b\\\b \bdone\n",
      "\u001b[?25h  Stored in directory: /content/.cache/pip/wheels/56/e1/0f/f7ccf1ed8ceaabccc2a93ce0481f73e589814cbbc439291345\n",
      "  Running setup.py bdist_wheel for toolz ... \u001b[?25l-\b \bdone\n",
      "\u001b[?25h  Stored in directory: /content/.cache/pip/wheels/57/51/8a/433a9c0a2c65fc1b2a795ae036b932f3339a02e9ae88367659\n",
      "Successfully built shorttext pulp spacy stemming smart-open ftfy html5lib msgpack-python murmurhash pathlib preshed regex thinc ujson bz2file cytoolz wrapt toolz\n",
      "Installing collected packages: jmespath, docutils, botocore, s3transfer, boto3, boto, bz2file, smart-open, gensim, keras, pulp, cymem, html5lib, ftfy, msgpack-python, msgpack-numpy, murmurhash, pathlib, plac, preshed, regex, toolz, cytoolz, tqdm, wrapt, thinc, ujson, spacy, stemming, shorttext\n",
      "  Found existing installation: html5lib 0.9999999\n",
      "    Uninstalling html5lib-0.9999999:\n",
      "      Successfully uninstalled html5lib-0.9999999\n",
      "Successfully installed boto-2.48.0 boto3-1.6.6 botocore-1.9.6 bz2file-0.98 cymem-1.31.2 cytoolz-0.8.2 docutils-0.14 ftfy-4.4.3 gensim-3.4.0 html5lib-1.0b8 jmespath-0.9.3 keras-2.1.5 msgpack-numpy-0.4.1 msgpack-python-0.5.4 murmurhash-0.28.0 pathlib-1.0.1 plac-0.9.6 preshed-1.0.0 pulp-1.6.8 regex-2017.4.5 s3transfer-0.1.13 shorttext-0.6.0 smart-open-1.5.6 spacy-2.0.9 stemming-1.0.1 thinc-6.10.2 toolz-0.9.0 tqdm-4.19.6 ujson-1.35 wrapt-1.10.11\n"
     ]
    }
   ],
   "source": [
    "!pip install shorttext"
   ]
  },
  {
   "cell_type": "code",
   "execution_count": 4,
   "metadata": {
    "colab": {
     "autoexec": {
      "startup": false,
      "wait_interval": 0
     },
     "base_uri": "https://localhost:8080/",
     "height": 68,
     "output_extras": [
      {
       "item_id": 3
      }
     ]
    },
    "colab_type": "code",
    "executionInfo": {
     "elapsed": 65601,
     "status": "ok",
     "timestamp": 1520844550533,
     "user": {
      "displayName": "RAUNAK ROBINKUMAR AGARWAL 1540239",
      "photoUrl": "https://lh3.googleusercontent.com/a/default-user=s128",
      "userId": "109577210923723476478"
     },
     "user_tz": -330
    },
    "id": "pXD6j53am3Ge",
    "outputId": "fabf0cc6-7fa8-4d78-9a3d-a5db5963d5d5"
   },
   "outputs": [
    {
     "name": "stdout",
     "output_type": "stream",
     "text": [
      "Downloading Word2vec Model\n",
      "Model Downloaded\n",
      "Unzipping done\n"
     ]
    }
   ],
   "source": [
    "!echo \"Downloading Word2vec Model\"\n",
    "!wget -q https://s3.amazonaws.com/mordecai-geo/GoogleNews-vectors-negative300.bin.gz\n",
    "!echo \"Model Downloaded\"\n",
    "\n",
    "!gunzip GoogleNews-vectors-negative300.bin.gz\n",
    "!echo \"Unzipping done\"\n"
   ]
  },
  {
   "cell_type": "code",
   "execution_count": 5,
   "metadata": {
    "colab": {
     "autoexec": {
      "startup": false,
      "wait_interval": 0
     },
     "base_uri": "https://localhost:8080/",
     "height": 34,
     "output_extras": [
      {
       "item_id": 1
      }
     ]
    },
    "colab_type": "code",
    "executionInfo": {
     "elapsed": 7765,
     "status": "ok",
     "timestamp": 1520844582901,
     "user": {
      "displayName": "RAUNAK ROBINKUMAR AGARWAL 1540239",
      "photoUrl": "https://lh3.googleusercontent.com/a/default-user=s128",
      "userId": "109577210923723476478"
     },
     "user_tz": -330
    },
    "id": "Exh-8ph_o043",
    "outputId": "c12b92b4-2415-417f-9932-8e9e9a48a616"
   },
   "outputs": [
    {
     "name": "stderr",
     "output_type": "stream",
     "text": [
      "Using TensorFlow backend.\n"
     ]
    }
   ],
   "source": [
    "import shorttext\n",
    "import pandas as pd\n",
    "\n"
   ]
  },
  {
   "cell_type": "code",
   "execution_count": 0,
   "metadata": {
    "colab": {
     "autoexec": {
      "startup": false,
      "wait_interval": 0
     }
    },
    "colab_type": "code",
    "collapsed": true,
    "id": "KcQvq3CQr-Hj"
   },
   "outputs": [],
   "source": [
    "import requests\n",
    "import io\n",
    "import sys\n",
    "import collections\n"
   ]
  },
  {
   "cell_type": "code",
   "execution_count": 2,
   "metadata": {
    "colab": {
     "autoexec": {
      "startup": false,
      "wait_interval": 0
     },
     "base_uri": "https://localhost:8080/",
     "height": 198,
     "output_extras": [
      {
       "item_id": 1
      }
     ]
    },
    "colab_type": "code",
    "executionInfo": {
     "elapsed": 7960,
     "status": "error",
     "timestamp": 1520865749130,
     "user": {
      "displayName": "RAUNAK ROBINKUMAR AGARWAL 1540239",
      "photoUrl": "https://lh3.googleusercontent.com/a/default-user=s128",
      "userId": "109577210923723476478"
     },
     "user_tz": -330
    },
    "id": "WHoM_VhkrDhX",
    "outputId": "d1643a13-15d1-4b42-ddec-c760028a4afa"
   },
   "outputs": [
    {
     "ename": "NameError",
     "evalue": "ignored",
     "output_type": "error",
     "traceback": [
      "\u001b[0;31m\u001b[0m",
      "\u001b[0;31mNameError\u001b[0mTraceback (most recent call last)",
      "\u001b[0;32m<ipython-input-2-19f57688faa2>\u001b[0m in \u001b[0;36m<module>\u001b[0;34m()\u001b[0m\n\u001b[1;32m      4\u001b[0m \u001b[0;31m#train= pd.read_csv(io.StringIO(requests.get(train_url).content.decode('utf-8')))\u001b[0m\u001b[0;34m\u001b[0m\u001b[0;34m\u001b[0m\u001b[0m\n\u001b[1;32m      5\u001b[0m \u001b[0;31m#test = pd.read_csv(io.StringIO(requests.get(test_url).content.decode('utf-8')))\u001b[0m\u001b[0;34m\u001b[0m\u001b[0;34m\u001b[0m\u001b[0m\n\u001b[0;32m----> 6\u001b[0;31m \u001b[0mdf\u001b[0m \u001b[0;34m=\u001b[0m \u001b[0mpd\u001b[0m\u001b[0;34m.\u001b[0m\u001b[0mread_csv\u001b[0m\u001b[0;34m(\u001b[0m\u001b[0mio\u001b[0m\u001b[0;34m.\u001b[0m\u001b[0mStringIO\u001b[0m\u001b[0;34m(\u001b[0m\u001b[0mrequests\u001b[0m\u001b[0;34m.\u001b[0m\u001b[0mget\u001b[0m\u001b[0;34m(\u001b[0m\u001b[0murl\u001b[0m\u001b[0;34m)\u001b[0m\u001b[0;34m.\u001b[0m\u001b[0mcontent\u001b[0m\u001b[0;34m.\u001b[0m\u001b[0mdecode\u001b[0m\u001b[0;34m(\u001b[0m\u001b[0;34m'utf-8'\u001b[0m\u001b[0;34m)\u001b[0m\u001b[0;34m)\u001b[0m\u001b[0;34m)\u001b[0m\u001b[0;34m\u001b[0m\u001b[0m\n\u001b[0m",
      "\u001b[0;31mNameError\u001b[0m: name 'pd' is not defined"
     ]
    }
   ],
   "source": [
    "# url = \"https://github.com/raunak-agarwal/playground/raw/master/Hate%20Speech%20Preprocessed.csv\"\n",
    "url = \"https://github.com/raunak-agarwal/playground/raw/master/AskUbuntu.csv\"\n",
    "#train_url = \"https://raw.githubusercontent.com/raunak-agarwal/playground/master/travel%20train.csv\"\n",
    "#test_url = \"https://raw.githubusercontent.com/raunak-agarwal/playground/master/travel%20test.csv\"\n",
    "#train= pd.read_csv(io.StringIO(requests.get(train_url).content.decode('utf-8')))\n",
    "#test = pd.read_csv(io.StringIO(requests.get(test_url).content.decode('utf-8')))\n",
    "df = pd.read_csv(io.StringIO(requests.get(url).content.decode('utf-8')))"
   ]
  },
  {
   "cell_type": "code",
   "execution_count": 0,
   "metadata": {
    "colab": {
     "autoexec": {
      "startup": false,
      "wait_interval": 0
     }
    },
    "colab_type": "code",
    "collapsed": true,
    "id": "lAFlX_Rbs91Z"
   },
   "outputs": [],
   "source": [
    "from sklearn.model_selection import train_test_split\n",
    "\n",
    "train, test = train_test_split(df, test_size = 0.2, random_state = 42)\n",
    "\n",
    "train.to_csv(\"train.csv\",index=False)\n",
    "test.to_csv(\"test.csv\", index = False)\n"
   ]
  },
  {
   "cell_type": "code",
   "execution_count": 0,
   "metadata": {
    "colab": {
     "autoexec": {
      "startup": false,
      "wait_interval": 0
     }
    },
    "colab_type": "code",
    "collapsed": true,
    "id": "ZqDHJYSWtTDC"
   },
   "outputs": [],
   "source": [
    "trainclassdict = shorttext.data.retrieve_csvdata_as_dict('train.csv')"
   ]
  },
  {
   "cell_type": "code",
   "execution_count": 0,
   "metadata": {
    "colab": {
     "autoexec": {
      "startup": false,
      "wait_interval": 0
     }
    },
    "colab_type": "code",
    "collapsed": true,
    "id": "LibujSHhtVM_"
   },
   "outputs": [],
   "source": [
    "wvmodel = shorttext.utils.load_word2vec_model(path=\"GoogleNews-vectors-negative300.bin\")"
   ]
  },
  {
   "cell_type": "code",
   "execution_count": 11,
   "metadata": {
    "colab": {
     "autoexec": {
      "startup": false,
      "wait_interval": 0
     },
     "base_uri": "https://localhost:8080/",
     "height": 88,
     "output_extras": [
      {
       "item_id": 1
      }
     ]
    },
    "colab_type": "code",
    "executionInfo": {
     "elapsed": 869,
     "status": "ok",
     "timestamp": 1520844667910,
     "user": {
      "displayName": "RAUNAK ROBINKUMAR AGARWAL 1540239",
      "photoUrl": "https://lh3.googleusercontent.com/a/default-user=s128",
      "userId": "109577210923723476478"
     },
     "user_tz": -330
    },
    "id": "v9baGQLottpM",
    "outputId": "7704c1fe-e1de-41c0-8d93-333412067d28"
   },
   "outputs": [
    {
     "name": "stdout",
     "output_type": "stream",
     "text": [
      "WARNING:tensorflow:From /usr/local/lib/python2.7/dist-packages/tensorflow/python/util/deprecation.py:497: calling conv1d (from tensorflow.python.ops.nn_ops) with data_format=NHWC is deprecated and will be removed in a future version.\n",
      "Instructions for updating:\n",
      "`NHWC` for data_format is deprecated, use `NWC` instead\n"
     ]
    }
   ],
   "source": [
    "#kmodel = shorttext.classifiers.frameworks.CNNWordEmbed(len(trainclassdict.keys()), vecsize=300)\n",
    "#kmodel = shorttext.classifiers.frameworks.CLSTMWordEmbed(len(trainclassdict.keys()), vecsize=wvmodel.vector_size)\n",
    "kmodel = shorttext.classifiers.frameworks.DoubleCNNWordEmbed(len(trainclassdict.keys()), vecsize=wvmodel.vector_size)\n"
   ]
  },
  {
   "cell_type": "code",
   "execution_count": 0,
   "metadata": {
    "colab": {
     "autoexec": {
      "startup": false,
      "wait_interval": 0
     }
    },
    "colab_type": "code",
    "collapsed": true,
    "id": "xDCdzBCEtxK1"
   },
   "outputs": [],
   "source": [
    "classifier = shorttext.classifiers.VarNNEmbeddedVecClassifier(wvmodel)"
   ]
  },
  {
   "cell_type": "code",
   "execution_count": 13,
   "metadata": {
    "colab": {
     "autoexec": {
      "startup": false,
      "wait_interval": 0
     },
     "base_uri": "https://localhost:8080/",
     "height": 238,
     "output_extras": [
      {
       "item_id": 12
      }
     ]
    },
    "colab_type": "code",
    "executionInfo": {
     "elapsed": 6064,
     "status": "ok",
     "timestamp": 1520844679459,
     "user": {
      "displayName": "RAUNAK ROBINKUMAR AGARWAL 1540239",
      "photoUrl": "https://lh3.googleusercontent.com/a/default-user=s128",
      "userId": "109577210923723476478"
     },
     "user_tz": -330
    },
    "id": "BHkYB-EctypM",
    "outputId": "6c226971-d023-47a4-f212-6c0e6b329a48"
   },
   "outputs": [
    {
     "name": "stdout",
     "output_type": "stream",
     "text": [
      "Collecting https://github.com/explosion/spacy-models/releases/download/en_core_web_sm-2.0.0/en_core_web_sm-2.0.0.tar.gz\n",
      "  Downloading https://github.com/explosion/spacy-models/releases/download/en_core_web_sm-2.0.0/en_core_web_sm-2.0.0.tar.gz (37.4MB)\n",
      "\u001b[K    100% |████████████████████████████████| 37.4MB 118.3MB/s \n",
      "\u001b[?25hInstalling collected packages: en-core-web-sm\n",
      "  Running setup.py install for en-core-web-sm ... \u001b[?25l-\b \b\\\b \bdone\n",
      "\u001b[?25hSuccessfully installed en-core-web-sm-2.0.0\n",
      "\n",
      "\u001b[93m    Linking successful\u001b[0m\n",
      "    /usr/local/lib/python2.7/dist-packages/en_core_web_sm -->\n",
      "    /usr/local/lib/python2.7/dist-packages/spacy/data/en\n",
      "\n",
      "    You can now load the model via spacy.load('en')\n",
      "\n"
     ]
    }
   ],
   "source": [
    "!python2 -m spacy download en"
   ]
  },
  {
   "cell_type": "code",
   "execution_count": 14,
   "metadata": {
    "colab": {
     "autoexec": {
      "startup": false,
      "wait_interval": 0
     },
     "base_uri": "https://localhost:8080/",
     "height": 3417,
     "output_extras": [
      {
       "item_id": 10
      },
      {
       "item_id": 18
      },
      {
       "item_id": 26
      },
      {
       "item_id": 32
      }
     ]
    },
    "colab_type": "code",
    "executionInfo": {
     "elapsed": 15023,
     "status": "ok",
     "timestamp": 1520844703279,
     "user": {
      "displayName": "RAUNAK ROBINKUMAR AGARWAL 1540239",
      "photoUrl": "https://lh3.googleusercontent.com/a/default-user=s128",
      "userId": "109577210923723476478"
     },
     "user_tz": -330
    },
    "id": "vCyCSbFhuJvi",
    "outputId": "be12c305-5dc4-44b7-98c2-850f7cd04f7f"
   },
   "outputs": [
    {
     "name": "stdout",
     "output_type": "stream",
     "text": [
      "Epoch 1/100\n",
      "70/70 [==============================] - 4s 51ms/step - loss: 1.9163\n",
      "Epoch 2/100\n",
      "70/70 [==============================] - 0s 1ms/step - loss: 1.1656\n",
      "Epoch 3/100\n",
      "70/70 [==============================] - 0s 1ms/step - loss: 0.4152\n",
      "Epoch 4/100\n",
      "70/70 [==============================] - 0s 1ms/step - loss: 0.1804\n",
      "Epoch 5/100\n",
      "70/70 [==============================] - 0s 1ms/step - loss: 0.0542\n",
      "Epoch 6/100\n",
      "70/70 [==============================] - 0s 1ms/step - loss: 0.0165\n",
      "Epoch 7/100\n",
      "70/70 [==============================] - 0s 1ms/step - loss: 0.0078\n",
      "Epoch 8/100\n",
      "70/70 [==============================] - 0s 1ms/step - loss: 0.0039\n",
      "Epoch 9/100\n",
      "70/70 [==============================] - 0s 1ms/step - loss: 0.0025\n",
      "Epoch 10/100\n",
      "70/70 [==============================] - 0s 1ms/step - loss: 0.0013\n",
      "Epoch 11/100\n",
      "70/70 [==============================] - 0s 1ms/step - loss: 6.5723e-04\n",
      "Epoch 12/100\n",
      "70/70 [==============================] - 0s 1ms/step - loss: 4.0409e-04\n",
      "Epoch 13/100\n",
      "70/70 [==============================] - 0s 1ms/step - loss: 2.4209e-04\n",
      "Epoch 14/100\n",
      "70/70 [==============================] - 0s 1ms/step - loss: 1.7158e-04\n",
      "Epoch 15/100\n",
      "70/70 [==============================] - 0s 1ms/step - loss: 1.3343e-04\n",
      "Epoch 16/100\n",
      "70/70 [==============================] - 0s 1ms/step - loss: 1.0609e-04\n",
      "Epoch 17/100\n",
      "70/70 [==============================] - 0s 1ms/step - loss: 8.5609e-05\n",
      "Epoch 18/100\n",
      "70/70 [==============================] - 0s 1ms/step - loss: 7.2233e-05\n",
      "Epoch 19/100\n",
      "70/70 [==============================] - 0s 1ms/step - loss: 6.6224e-05\n",
      "Epoch 20/100\n",
      "70/70 [==============================] - 0s 1ms/step - loss: 5.9858e-05\n",
      "Epoch 21/100\n",
      "70/70 [==============================] - 0s 1ms/step - loss: 5.5661e-05\n",
      "Epoch 22/100\n",
      "70/70 [==============================] - 0s 1ms/step - loss: 5.2471e-05\n",
      "Epoch 23/100\n",
      "70/70 [==============================] - 0s 1ms/step - loss: 4.9570e-05\n",
      "Epoch 24/100\n",
      "70/70 [==============================] - 0s 1ms/step - loss: 4.6916e-05\n",
      "Epoch 25/100\n",
      "70/70 [==============================] - 0s 1ms/step - loss: 4.5061e-05\n",
      "Epoch 26/100\n",
      "70/70 [==============================] - 0s 1ms/step - loss: 4.3255e-05\n",
      "Epoch 27/100\n",
      "70/70 [==============================] - 0s 1ms/step - loss: 4.2179e-05\n",
      "Epoch 28/100\n",
      "70/70 [==============================] - 0s 1ms/step - loss: 4.0761e-05\n",
      "Epoch 29/100\n",
      "70/70 [==============================] - 0s 1ms/step - loss: 3.9481e-05\n",
      "Epoch 30/100\n",
      "70/70 [==============================] - 0s 1ms/step - loss: 3.8362e-05\n",
      "Epoch 31/100\n",
      "70/70 [==============================] - 0s 1ms/step - loss: 3.7291e-05\n",
      "Epoch 32/100\n",
      "70/70 [==============================] - 0s 1ms/step - loss: 3.6206e-05\n",
      "Epoch 33/100\n",
      "70/70 [==============================] - 0s 1ms/step - loss: 3.5366e-05\n",
      "Epoch 34/100\n",
      "70/70 [==============================] - 0s 1ms/step - loss: 3.4571e-05\n",
      "Epoch 35/100\n",
      "70/70 [==============================] - 0s 1ms/step - loss: 3.3762e-05\n",
      "Epoch 36/100\n",
      "70/70 [==============================] - 0s 1ms/step - loss: 3.3073e-05\n",
      "Epoch 37/100\n",
      "70/70 [==============================] - 0s 1ms/step - loss: 3.2484e-05\n",
      "Epoch 38/100\n",
      "70/70 [==============================] - 0s 1ms/step - loss: 3.1864e-05\n",
      "Epoch 39/100\n",
      "70/70 [==============================] - 0s 1ms/step - loss: 3.1367e-05\n",
      "Epoch 40/100\n",
      "70/70 [==============================] - 0s 1ms/step - loss: 3.0819e-05\n",
      "Epoch 41/100\n",
      "70/70 [==============================] - 0s 1ms/step - loss: 3.0314e-05\n",
      "Epoch 42/100\n",
      "70/70 [==============================] - 0s 1ms/step - loss: 2.9852e-05\n",
      "Epoch 43/100\n",
      "70/70 [==============================] - 0s 1ms/step - loss: 2.9339e-05\n",
      "Epoch 44/100\n",
      "70/70 [==============================] - 0s 1ms/step - loss: 2.8857e-05\n",
      "Epoch 45/100\n",
      "70/70 [==============================] - 0s 1ms/step - loss: 2.8421e-05\n",
      "Epoch 46/100\n",
      "70/70 [==============================] - 0s 1ms/step - loss: 2.7987e-05\n",
      "Epoch 47/100\n",
      "70/70 [==============================] - 0s 1ms/step - loss: 2.7576e-05\n",
      "Epoch 48/100\n",
      "70/70 [==============================] - 0s 1ms/step - loss: 2.7186e-05\n",
      "Epoch 49/100\n",
      "70/70 [==============================] - 0s 1ms/step - loss: 2.6801e-05\n",
      "Epoch 50/100\n",
      "70/70 [==============================] - 0s 1ms/step - loss: 2.6425e-05\n",
      "Epoch 51/100\n",
      "70/70 [==============================] - 0s 1ms/step - loss: 2.6073e-05\n",
      "Epoch 52/100\n",
      "70/70 [==============================] - 0s 1ms/step - loss: 2.5739e-05\n",
      "Epoch 53/100\n",
      "70/70 [==============================] - 0s 1ms/step - loss: 2.5405e-05\n",
      "Epoch 54/100\n",
      "70/70 [==============================] - 0s 1ms/step - loss: 2.5103e-05\n",
      "Epoch 55/100\n",
      "70/70 [==============================] - 0s 1ms/step - loss: 2.4774e-05\n",
      "Epoch 56/100\n",
      "70/70 [==============================] - 0s 1ms/step - loss: 2.4499e-05\n",
      "Epoch 57/100\n",
      "70/70 [==============================] - 0s 1ms/step - loss: 2.4204e-05\n",
      "Epoch 58/100\n",
      "70/70 [==============================] - 0s 1ms/step - loss: 2.3942e-05\n",
      "Epoch 59/100\n",
      "70/70 [==============================] - 0s 1ms/step - loss: 2.3673e-05\n",
      "Epoch 60/100\n",
      "70/70 [==============================] - 0s 1ms/step - loss: 2.3385e-05\n",
      "Epoch 61/100\n",
      "70/70 [==============================] - 0s 1ms/step - loss: 2.3170e-05\n",
      "Epoch 62/100\n",
      "70/70 [==============================] - 0s 1ms/step - loss: 2.2892e-05\n",
      "Epoch 63/100\n",
      "70/70 [==============================] - 0s 1ms/step - loss: 2.2630e-05\n",
      "Epoch 64/100\n",
      "70/70 [==============================] - 0s 1ms/step - loss: 2.2389e-05\n",
      "Epoch 65/100\n",
      "70/70 [==============================] - 0s 1ms/step - loss: 2.2086e-05\n",
      "Epoch 66/100\n",
      "70/70 [==============================] - 0s 1ms/step - loss: 2.1845e-05\n",
      "Epoch 67/100\n",
      "70/70 [==============================] - 0s 1ms/step - loss: 2.1532e-05\n",
      "Epoch 68/100\n",
      "70/70 [==============================] - 0s 1ms/step - loss: 2.1304e-05\n",
      "Epoch 69/100\n",
      "70/70 [==============================] - 0s 1ms/step - loss: 2.1025e-05\n",
      "Epoch 70/100\n",
      "70/70 [==============================] - 0s 1ms/step - loss: 2.0783e-05\n",
      "Epoch 71/100\n",
      "70/70 [==============================] - 0s 1ms/step - loss: 2.0567e-05\n",
      "Epoch 72/100\n",
      "70/70 [==============================] - 0s 1ms/step - loss: 2.0361e-05\n",
      "Epoch 73/100\n",
      "70/70 [==============================] - 0s 1ms/step - loss: 2.0154e-05\n",
      "Epoch 74/100\n",
      "70/70 [==============================] - 0s 1ms/step - loss: 1.9954e-05\n",
      "Epoch 75/100\n",
      "70/70 [==============================] - 0s 1ms/step - loss: 1.9753e-05\n",
      "Epoch 76/100\n",
      "70/70 [==============================] - 0s 1ms/step - loss: 1.9571e-05\n",
      "Epoch 77/100\n",
      "70/70 [==============================] - 0s 1ms/step - loss: 1.9388e-05\n",
      "Epoch 78/100\n",
      "70/70 [==============================] - 0s 1ms/step - loss: 1.9202e-05\n",
      "Epoch 79/100\n",
      "70/70 [==============================] - 0s 1ms/step - loss: 1.9021e-05\n",
      "Epoch 80/100\n",
      "70/70 [==============================] - 0s 1ms/step - loss: 1.8867e-05\n",
      "Epoch 81/100\n",
      "70/70 [==============================] - 0s 1ms/step - loss: 1.8668e-05\n",
      "Epoch 82/100\n",
      "70/70 [==============================] - 0s 1ms/step - loss: 1.8493e-05\n",
      "Epoch 83/100\n",
      "70/70 [==============================] - 0s 1ms/step - loss: 1.8298e-05\n",
      "Epoch 84/100\n",
      "70/70 [==============================] - 0s 1ms/step - loss: 1.8123e-05\n",
      "Epoch 85/100\n",
      "70/70 [==============================] - 0s 1ms/step - loss: 1.7921e-05\n",
      "Epoch 86/100\n",
      "70/70 [==============================] - 0s 1ms/step - loss: 1.7761e-05\n",
      "Epoch 87/100\n",
      "70/70 [==============================] - 0s 1ms/step - loss: 1.7591e-05\n",
      "Epoch 88/100\n",
      "70/70 [==============================] - 0s 1ms/step - loss: 1.7432e-05\n",
      "Epoch 89/100\n",
      "70/70 [==============================] - 0s 1ms/step - loss: 1.7255e-05\n",
      "Epoch 90/100\n",
      "70/70 [==============================] - 0s 1ms/step - loss: 1.7091e-05\n",
      "Epoch 91/100\n",
      "70/70 [==============================] - 0s 1ms/step - loss: 1.6913e-05\n",
      "Epoch 92/100\n",
      "70/70 [==============================] - 0s 1ms/step - loss: 1.6771e-05\n",
      "Epoch 93/100\n",
      "70/70 [==============================] - 0s 1ms/step - loss: 1.6612e-05\n",
      "Epoch 94/100\n",
      "70/70 [==============================] - 0s 1ms/step - loss: 1.6481e-05\n",
      "Epoch 95/100\n",
      "70/70 [==============================] - 0s 1ms/step - loss: 1.6332e-05\n",
      "Epoch 96/100\n",
      "70/70 [==============================] - 0s 1ms/step - loss: 1.6176e-05\n",
      "Epoch 97/100\n",
      "70/70 [==============================] - 0s 1ms/step - loss: 1.6031e-05\n",
      "Epoch 98/100\n",
      "70/70 [==============================] - 0s 1ms/step - loss: 1.5893e-05\n",
      "Epoch 99/100\n",
      "70/70 [==============================] - 0s 1ms/step - loss: 1.5765e-05\n",
      "Epoch 100/100\n",
      "70/70 [==============================] - 0s 1ms/step - loss: 1.5624e-05\n"
     ]
    }
   ],
   "source": [
    "classifier.train(trainclassdict, kmodel,nb_epoch=100)"
   ]
  },
  {
   "cell_type": "code",
   "execution_count": 0,
   "metadata": {
    "colab": {
     "autoexec": {
      "startup": false,
      "wait_interval": 0
     }
    },
    "colab_type": "code",
    "collapsed": true,
    "id": "mTnDCgJpuOzO"
   },
   "outputs": [],
   "source": [
    "def append_response(row):\n",
    "    utterance = row[['text']]\n",
    "    ip = utterance.reshape(1,-1)\n",
    "    #print(ip)\n",
    "    #ip = np.array(list(utterance),dtype = np.float)\n",
    "    #ip = pd.Series(utterance)\n",
    "    \n",
    "    pred = classifier.score(utterance)\n",
    "    #print(pred)\n",
    "    \n",
    "    try:\n",
    "        row['predicted'] = max(pred, key=pred.get)\n",
    "\n",
    "        \"\"\"\n",
    "        if response[2]:\n",
    "            row['predicted_score'] = response[2]\n",
    "        else:\n",
    "            row['predicted_score'] = 0\n",
    "        \"\"\"\n",
    "        \n",
    "        \n",
    "        #print(\"q = {}, ans = {}\" .format(utterance,response))\n",
    "            \n",
    "    except Exception as e:\n",
    "        row['predicted'] = None\n",
    "        #row['predicted_score'] = 0\n",
    "        print(\"q = {}, ans = {}\" .format(utterance,None))\n",
    "    \n",
    "    return row"
   ]
  },
  {
   "cell_type": "code",
   "execution_count": 0,
   "metadata": {
    "colab": {
     "autoexec": {
      "startup": false,
      "wait_interval": 0
     }
    },
    "colab_type": "code",
    "collapsed": true,
    "id": "x6dkZNSJuQzx"
   },
   "outputs": [],
   "source": [
    "def label_correct_responses(row):\n",
    "    expected = row['intent']\n",
    "    #expected = le.inverse_transform(expected)[0]\n",
    "    predicted = row['predicted']\n",
    "    \n",
    "    if expected == predicted:\n",
    "        row['Correct'] = 1\n",
    "    else:\n",
    "        row['Correct'] = 0\n",
    "    \n",
    "    return row\n",
    "\n",
    "#sk_clf.predict(test[['utterance']])"
   ]
  },
  {
   "cell_type": "code",
   "execution_count": 0,
   "metadata": {
    "colab": {
     "autoexec": {
      "startup": false,
      "wait_interval": 0
     }
    },
    "colab_type": "code",
    "collapsed": true,
    "id": "Y9RxuKA0uR-g"
   },
   "outputs": [],
   "source": [
    "def algo_test(test, write = False, filename = 'default.csv'):\n",
    "    test = test.apply(append_response, axis = 1)\n",
    "    test = test.apply(label_correct_responses, axis = 1)\n",
    "    print(test['Correct'].mean())\n",
    "    \n",
    "    if write:\n",
    "        test.to_csv(filename)\n",
    "    \n",
    "    return test\n",
    "\n"
   ]
  },
  {
   "cell_type": "code",
   "execution_count": 18,
   "metadata": {
    "colab": {
     "autoexec": {
      "startup": false,
      "wait_interval": 0
     },
     "base_uri": "https://localhost:8080/",
     "height": 678,
     "output_extras": [
      {
       "item_id": 1
      },
      {
       "item_id": 2
      },
      {
       "item_id": 3
      }
     ]
    },
    "colab_type": "code",
    "executionInfo": {
     "elapsed": 987,
     "status": "ok",
     "timestamp": 1520844721841,
     "user": {
      "displayName": "RAUNAK ROBINKUMAR AGARWAL 1540239",
      "photoUrl": "https://lh3.googleusercontent.com/a/default-user=s128",
      "userId": "109577210923723476478"
     },
     "user_tz": -330
    },
    "id": "DU1MIn_BuT57",
    "outputId": "907123e4-0674-4f57-aac2-a726534d4329"
   },
   "outputs": [
    {
     "name": "stderr",
     "output_type": "stream",
     "text": [
      "/usr/local/lib/python2.7/dist-packages/ipykernel_launcher.py:3: FutureWarning: reshape is deprecated and will raise in a subsequent release. Please use .values.reshape(...) instead\n",
      "  This is separate from the ipykernel package so we can avoid doing imports until\n"
     ]
    },
    {
     "name": "stdout",
     "output_type": "stream",
     "text": [
      "0.7777777777777778\n"
     ]
    },
    {
     "data": {
      "text/html": [
       "<div>\n",
       "<style scoped>\n",
       "    .dataframe tbody tr th:only-of-type {\n",
       "        vertical-align: middle;\n",
       "    }\n",
       "\n",
       "    .dataframe tbody tr th {\n",
       "        vertical-align: top;\n",
       "    }\n",
       "\n",
       "    .dataframe thead th {\n",
       "        text-align: right;\n",
       "    }\n",
       "</style>\n",
       "<table border=\"1\" class=\"dataframe\">\n",
       "  <thead>\n",
       "    <tr style=\"text-align: right;\">\n",
       "      <th></th>\n",
       "      <th>intent</th>\n",
       "      <th>text</th>\n",
       "      <th>predicted</th>\n",
       "      <th>Correct</th>\n",
       "    </tr>\n",
       "  </thead>\n",
       "  <tbody>\n",
       "    <tr>\n",
       "      <th>76</th>\n",
       "      <td>None</td>\n",
       "      <td>How can I get OkCupid search to show only matc...</td>\n",
       "      <td>Sync Accounts</td>\n",
       "      <td>0</td>\n",
       "    </tr>\n",
       "    <tr>\n",
       "      <th>0</th>\n",
       "      <td>Change Password</td>\n",
       "      <td>Gmail user set up through Google Apps can't ch...</td>\n",
       "      <td>Sync Accounts</td>\n",
       "      <td>0</td>\n",
       "    </tr>\n",
       "    <tr>\n",
       "      <th>26</th>\n",
       "      <td>Export Data</td>\n",
       "      <td>How do I transfer my photos from Flickr to Pic...</td>\n",
       "      <td>Export Data</td>\n",
       "      <td>1</td>\n",
       "    </tr>\n",
       "    <tr>\n",
       "      <th>22</th>\n",
       "      <td>Delete Account</td>\n",
       "      <td>How do I delete my Ohloh profile?</td>\n",
       "      <td>Delete Account</td>\n",
       "      <td>1</td>\n",
       "    </tr>\n",
       "    <tr>\n",
       "      <th>12</th>\n",
       "      <td>Delete Account</td>\n",
       "      <td>Deleting an account(website) from Google Analy...</td>\n",
       "      <td>Sync Accounts</td>\n",
       "      <td>0</td>\n",
       "    </tr>\n",
       "    <tr>\n",
       "      <th>67</th>\n",
       "      <td>Find Alternative</td>\n",
       "      <td>Bugmenot (registration bypasser) alternative t...</td>\n",
       "      <td>Find Alternative</td>\n",
       "      <td>1</td>\n",
       "    </tr>\n",
       "    <tr>\n",
       "      <th>10</th>\n",
       "      <td>Delete Account</td>\n",
       "      <td>How can I delete my 160by2 account?</td>\n",
       "      <td>Delete Account</td>\n",
       "      <td>1</td>\n",
       "    </tr>\n",
       "    <tr>\n",
       "      <th>18</th>\n",
       "      <td>Delete Account</td>\n",
       "      <td>How can I delete my Twitter account?</td>\n",
       "      <td>Delete Account</td>\n",
       "      <td>1</td>\n",
       "    </tr>\n",
       "    <tr>\n",
       "      <th>4</th>\n",
       "      <td>Change Password</td>\n",
       "      <td>How to retrieve a stolen Yahoo account's passw...</td>\n",
       "      <td>Delete Account</td>\n",
       "      <td>0</td>\n",
       "    </tr>\n",
       "    <tr>\n",
       "      <th>68</th>\n",
       "      <td>Find Alternative</td>\n",
       "      <td>Alternatives to Twitter</td>\n",
       "      <td>Find Alternative</td>\n",
       "      <td>1</td>\n",
       "    </tr>\n",
       "    <tr>\n",
       "      <th>85</th>\n",
       "      <td>Sync Accounts</td>\n",
       "      <td>How can I sync my Yahoo! Calendar with Google ...</td>\n",
       "      <td>Sync Accounts</td>\n",
       "      <td>1</td>\n",
       "    </tr>\n",
       "    <tr>\n",
       "      <th>65</th>\n",
       "      <td>Find Alternative</td>\n",
       "      <td>Q&amp;A Platform similar to Stack Exchange model?</td>\n",
       "      <td>Find Alternative</td>\n",
       "      <td>1</td>\n",
       "    </tr>\n",
       "    <tr>\n",
       "      <th>53</th>\n",
       "      <td>Find Alternative</td>\n",
       "      <td>Any alternatives to Google Apps for your domain?</td>\n",
       "      <td>Find Alternative</td>\n",
       "      <td>1</td>\n",
       "    </tr>\n",
       "    <tr>\n",
       "      <th>80</th>\n",
       "      <td>Sync Accounts</td>\n",
       "      <td>Can I Share/Sync My Picasa Web Albums Automati...</td>\n",
       "      <td>Sync Accounts</td>\n",
       "      <td>1</td>\n",
       "    </tr>\n",
       "    <tr>\n",
       "      <th>84</th>\n",
       "      <td>Sync Accounts</td>\n",
       "      <td>Google Contact Synchronization on the iPhone 3G</td>\n",
       "      <td>Sync Accounts</td>\n",
       "      <td>1</td>\n",
       "    </tr>\n",
       "    <tr>\n",
       "      <th>64</th>\n",
       "      <td>Find Alternative</td>\n",
       "      <td>Alternatives to discontinued Google Calendar A...</td>\n",
       "      <td>Find Alternative</td>\n",
       "      <td>1</td>\n",
       "    </tr>\n",
       "    <tr>\n",
       "      <th>33</th>\n",
       "      <td>Filter Spam</td>\n",
       "      <td>How to send messages to spam in Gmail filter?</td>\n",
       "      <td>Filter Spam</td>\n",
       "      <td>1</td>\n",
       "    </tr>\n",
       "    <tr>\n",
       "      <th>79</th>\n",
       "      <td>Sync Accounts</td>\n",
       "      <td>How do I sync Google Calendar with my Outlook ...</td>\n",
       "      <td>Sync Accounts</td>\n",
       "      <td>1</td>\n",
       "    </tr>\n",
       "  </tbody>\n",
       "</table>\n",
       "</div>"
      ],
      "text/plain": [
       "              intent                                               text  \\\n",
       "76              None  How can I get OkCupid search to show only matc...   \n",
       "0    Change Password  Gmail user set up through Google Apps can't ch...   \n",
       "26       Export Data  How do I transfer my photos from Flickr to Pic...   \n",
       "22    Delete Account                  How do I delete my Ohloh profile?   \n",
       "12    Delete Account  Deleting an account(website) from Google Analy...   \n",
       "67  Find Alternative  Bugmenot (registration bypasser) alternative t...   \n",
       "10    Delete Account                How can I delete my 160by2 account?   \n",
       "18    Delete Account               How can I delete my Twitter account?   \n",
       "4    Change Password  How to retrieve a stolen Yahoo account's passw...   \n",
       "68  Find Alternative                            Alternatives to Twitter   \n",
       "85     Sync Accounts  How can I sync my Yahoo! Calendar with Google ...   \n",
       "65  Find Alternative      Q&A Platform similar to Stack Exchange model?   \n",
       "53  Find Alternative   Any alternatives to Google Apps for your domain?   \n",
       "80     Sync Accounts  Can I Share/Sync My Picasa Web Albums Automati...   \n",
       "84     Sync Accounts    Google Contact Synchronization on the iPhone 3G   \n",
       "64  Find Alternative  Alternatives to discontinued Google Calendar A...   \n",
       "33       Filter Spam      How to send messages to spam in Gmail filter?   \n",
       "79     Sync Accounts  How do I sync Google Calendar with my Outlook ...   \n",
       "\n",
       "           predicted  Correct  \n",
       "76     Sync Accounts        0  \n",
       "0      Sync Accounts        0  \n",
       "26       Export Data        1  \n",
       "22    Delete Account        1  \n",
       "12     Sync Accounts        0  \n",
       "67  Find Alternative        1  \n",
       "10    Delete Account        1  \n",
       "18    Delete Account        1  \n",
       "4     Delete Account        0  \n",
       "68  Find Alternative        1  \n",
       "85     Sync Accounts        1  \n",
       "65  Find Alternative        1  \n",
       "53  Find Alternative        1  \n",
       "80     Sync Accounts        1  \n",
       "84     Sync Accounts        1  \n",
       "64  Find Alternative        1  \n",
       "33       Filter Spam        1  \n",
       "79     Sync Accounts        1  "
      ]
     },
     "execution_count": 18,
     "metadata": {
      "tags": []
     },
     "output_type": "execute_result"
    }
   ],
   "source": [
    "#df = svc_test(test, True, \"CNN Travel.csv\")\n",
    "df = algo_test(test)\n",
    "df\n",
    "# train\n",
    "# classifier.score(\"Recommendation for regex editor\")"
   ]
  },
  {
   "cell_type": "code",
   "execution_count": 129,
   "metadata": {
    "colab": {
     "autoexec": {
      "startup": false,
      "wait_interval": 0
     },
     "base_uri": "https://localhost:8080/",
     "height": 68,
     "output_extras": [
      {
       "item_id": 1
      }
     ]
    },
    "colab_type": "code",
    "executionInfo": {
     "elapsed": 753,
     "status": "ok",
     "timestamp": 1520770889525,
     "user": {
      "displayName": "RAUNAK ROBINKUMAR AGARWAL 1540239",
      "photoUrl": "https://lh3.googleusercontent.com/a/default-user=s128",
      "userId": "109577210923723476478"
     },
     "user_tz": -330
    },
    "id": "P6I12MDSwvAD",
    "outputId": "b0bb5c28-e8ac-47d8-d38c-69c7a8637526"
   },
   "outputs": [
    {
     "data": {
      "text/plain": [
       "{'hate speech': 4.1886602e-07,\n",
       " 'neither': 0.99938893,\n",
       " 'offensive': 0.00061062904}"
      ]
     },
     "execution_count": 129,
     "metadata": {
      "tags": []
     },
     "output_type": "execute_result"
    }
   ],
   "source": [
    "classifier.score(\"what is the closest metro station near me?\")"
   ]
  },
  {
   "cell_type": "code",
   "execution_count": 0,
   "metadata": {
    "colab": {
     "autoexec": {
      "startup": false,
      "wait_interval": 0
     }
    },
    "colab_type": "code",
    "collapsed": true,
    "id": "9QjII9qMxWC2"
   },
   "outputs": [],
   "source": [
    "from sklearn.metrics import f1_score,precision_recall_fscore_support, classification_report\n"
   ]
  },
  {
   "cell_type": "code",
   "execution_count": 20,
   "metadata": {
    "colab": {
     "autoexec": {
      "startup": false,
      "wait_interval": 0
     },
     "base_uri": "https://localhost:8080/",
     "height": 309,
     "output_extras": [
      {
       "item_id": 1
      },
      {
       "item_id": 2
      }
     ]
    },
    "colab_type": "code",
    "executionInfo": {
     "elapsed": 662,
     "status": "ok",
     "timestamp": 1520844729065,
     "user": {
      "displayName": "RAUNAK ROBINKUMAR AGARWAL 1540239",
      "photoUrl": "https://lh3.googleusercontent.com/a/default-user=s128",
      "userId": "109577210923723476478"
     },
     "user_tz": -330
    },
    "id": "Rlbbgmlkx3_I",
    "outputId": "05aae45c-9db1-48a1-d0b1-029d8d331b9b"
   },
   "outputs": [
    {
     "name": "stdout",
     "output_type": "stream",
     "text": [
      "('Macro', (0.6173469387755102, 0.6785714285714286, 0.6396103896103896, None))\n",
      "('Weighted', (0.6825396825396824, 0.7777777777777778, 0.7171717171717172, None))\n",
      "                  precision    recall  f1-score   support\n",
      "\n",
      " Change Password       0.00      0.00      0.00         2\n",
      "  Delete Account       0.75      0.75      0.75         4\n",
      "     Export Data       1.00      1.00      1.00         1\n",
      "     Filter Spam       1.00      1.00      1.00         1\n",
      "Find Alternative       1.00      1.00      1.00         5\n",
      "            None       0.00      0.00      0.00         1\n",
      "   Sync Accounts       0.57      1.00      0.73         4\n",
      "\n",
      "     avg / total       0.68      0.78      0.72        18\n",
      "\n"
     ]
    },
    {
     "name": "stderr",
     "output_type": "stream",
     "text": [
      "/usr/local/lib/python2.7/dist-packages/sklearn/metrics/classification.py:1135: UndefinedMetricWarning: Precision and F-score are ill-defined and being set to 0.0 in labels with no predicted samples.\n",
      "  'precision', 'predicted', average, warn_for)\n"
     ]
    }
   ],
   "source": [
    "y_true = df['intent']\n",
    "y_pred = df['predicted']\n",
    "\n",
    "print(\"Macro\",precision_recall_fscore_support(y_true, y_pred, average='macro'))\n",
    "print(\"Weighted\",precision_recall_fscore_support(y_true, y_pred, average='weighted'))\n",
    "\n",
    "report = classification_report( y_true, y_pred )\n",
    "\n",
    "print(report)\n",
    "\n"
   ]
  },
  {
   "cell_type": "code",
   "execution_count": 0,
   "metadata": {
    "colab": {
     "autoexec": {
      "startup": false,
      "wait_interval": 0
     }
    },
    "colab_type": "code",
    "collapsed": true,
    "id": "ZjGAt-kqhDJa"
   },
   "outputs": [],
   "source": [
    "def parse_classification_report(clfreport):\n",
    "\n",
    "    lines = clfreport.split('\\n')\n",
    "    lines = filter(lambda l: not len(l.strip()) == 0, lines)\n",
    "\n",
    "    header = lines[0]\n",
    "    cls_lines = lines[1:-1]\n",
    "    avg_line = lines[-1]\n",
    "\n",
    "    assert header.split() == ['precision', 'recall', 'f1-score', 'support']\n",
    "    assert avg_line.split()[0] == 'avg'\n",
    "\n",
    "\n",
    "    cls_field_width = len(header) - len(header.lstrip())\n",
    "\n",
    "    def parse_line(l):\n",
    "        cls_name = l[:cls_field_width].strip()\n",
    "        precision, recall, fscore, support = l[cls_field_width:].split()\n",
    "        precision = float(precision)\n",
    "        recall = float(recall)\n",
    "        fscore = float(fscore)\n",
    "        support = int(support)\n",
    "        return (cls_name, precision, recall, fscore, support)\n",
    "\n",
    "    data = collections.OrderedDict()\n",
    "    for l in cls_lines:\n",
    "        ret = parse_line(l)\n",
    "        cls_name = ret[0]\n",
    "        scores = ret[1:]\n",
    "        data[cls_name] = scores\n",
    "\n",
    "    data['avg'] = parse_line(avg_line)[1:]\n",
    "\n",
    "    return data\n",
    "\n",
    "  \n",
    "def report_to_latex_table(data):\n",
    "    out = \"\"\n",
    "    out += \"\\\\begin{tabular}{c | c c c c}\\n\"\n",
    "    out += \"Class & Precision & Recall & F-score & Support\\\\\\\\\\n\"\n",
    "    out += \"\\hline\\n\"\n",
    "    out += \"\\hline\\\\\\\\\\n\"\n",
    "    for cls, scores in data.iteritems():\n",
    "        out += cls + \" & \" + \" & \".join([str(s) for s in scores])\n",
    "        out += \"\\\\\\\\\\n\"\n",
    "    out += \"\\\\end{tabular}\"\n",
    "    return out\n"
   ]
  },
  {
   "cell_type": "code",
   "execution_count": 23,
   "metadata": {
    "colab": {
     "autoexec": {
      "startup": false,
      "wait_interval": 0
     },
     "base_uri": "https://localhost:8080/",
     "height": 238,
     "output_extras": [
      {
       "item_id": 1
      }
     ]
    },
    "colab_type": "code",
    "executionInfo": {
     "elapsed": 638,
     "status": "ok",
     "timestamp": 1520844747118,
     "user": {
      "displayName": "RAUNAK ROBINKUMAR AGARWAL 1540239",
      "photoUrl": "https://lh3.googleusercontent.com/a/default-user=s128",
      "userId": "109577210923723476478"
     },
     "user_tz": -330
    },
    "id": "ECTCmTQTnFHB",
    "outputId": "928f24d6-8573-44a5-eb93-08216e038b6e"
   },
   "outputs": [
    {
     "name": "stdout",
     "output_type": "stream",
     "text": [
      "\\begin{tabular}{c | c c c c}\n",
      "Class & Precision & Recall & F-score & Support\\\\\n",
      "\\hline\n",
      "\\hline\\\\\n",
      "Change Password & 0.0 & 0.0 & 0.0 & 2\\\\\n",
      "Delete Account & 0.75 & 0.75 & 0.75 & 4\\\\\n",
      "Export Data & 1.0 & 1.0 & 1.0 & 1\\\\\n",
      "Filter Spam & 1.0 & 1.0 & 1.0 & 1\\\\\n",
      "Find Alternative & 1.0 & 1.0 & 1.0 & 5\\\\\n",
      "None & 0.0 & 0.0 & 0.0 & 1\\\\\n",
      "Sync Accounts & 0.57 & 1.0 & 0.73 & 4\\\\\n",
      "avg & 0.68 & 0.78 & 0.72 & 18\\\\\n",
      "\\end{tabular}\n"
     ]
    }
   ],
   "source": [
    "data = parse_classification_report(report)\n",
    "print report_to_latex_table(data)"
   ]
  },
  {
   "cell_type": "code",
   "execution_count": 0,
   "metadata": {
    "colab": {
     "autoexec": {
      "startup": false,
      "wait_interval": 0
     }
    },
    "colab_type": "code",
    "collapsed": true,
    "id": "aWJnaXN3gD66"
   },
   "outputs": [],
   "source": [
    "from sklearn.metrics import confusion_matrix\n",
    "import numpy as np\n",
    "\n",
    "import matplotlib.pyplot as plt\n",
    "\n",
    "import seaborn\n",
    "%matplotlib inline\n"
   ]
  },
  {
   "cell_type": "code",
   "execution_count": 1,
   "metadata": {
    "colab": {
     "autoexec": {
      "startup": false,
      "wait_interval": 0
     },
     "base_uri": "https://localhost:8080/",
     "height": 232,
     "output_extras": [
      {
       "item_id": 1
      }
     ]
    },
    "colab_type": "code",
    "executionInfo": {
     "elapsed": 1092,
     "status": "error",
     "timestamp": 1520861605663,
     "user": {
      "displayName": "RAUNAK ROBINKUMAR AGARWAL 1540239",
      "photoUrl": "https://lh3.googleusercontent.com/a/default-user=s128",
      "userId": "109577210923723476478"
     },
     "user_tz": -330
    },
    "id": "tr--3i_Xfw4h",
    "outputId": "6f5c73af-01db-45da-8485-69a887569b6d"
   },
   "outputs": [
    {
     "ename": "NameError",
     "evalue": "ignored",
     "output_type": "error",
     "traceback": [
      "\u001b[0;31m\u001b[0m",
      "\u001b[0;31mNameError\u001b[0mTraceback (most recent call last)",
      "\u001b[0;32m<ipython-input-1-920ee6824bc0>\u001b[0m in \u001b[0;36m<module>\u001b[0;34m()\u001b[0m\n\u001b[1;32m      1\u001b[0m \u001b[0;34m\u001b[0m\u001b[0m\n\u001b[0;32m----> 2\u001b[0;31m \u001b[0mcm\u001b[0m \u001b[0;34m=\u001b[0m \u001b[0mconfusion_matrix\u001b[0m\u001b[0;34m(\u001b[0m\u001b[0my_true\u001b[0m\u001b[0;34m,\u001b[0m\u001b[0my_pred\u001b[0m\u001b[0;34m)\u001b[0m\u001b[0;34m\u001b[0m\u001b[0m\n\u001b[0m\u001b[1;32m      3\u001b[0m \u001b[0;34m\u001b[0m\u001b[0m\n\u001b[1;32m      4\u001b[0m \u001b[0mmatrix_proportions\u001b[0m \u001b[0;34m=\u001b[0m \u001b[0mnp\u001b[0m\u001b[0;34m.\u001b[0m\u001b[0mzeros\u001b[0m\u001b[0;34m(\u001b[0m\u001b[0;34m(\u001b[0m\u001b[0;36m7\u001b[0m\u001b[0;34m,\u001b[0m\u001b[0;36m7\u001b[0m\u001b[0;34m)\u001b[0m\u001b[0;34m)\u001b[0m\u001b[0;34m\u001b[0m\u001b[0m\n\u001b[1;32m      5\u001b[0m \u001b[0;32mfor\u001b[0m \u001b[0mi\u001b[0m \u001b[0;32min\u001b[0m \u001b[0mrange\u001b[0m\u001b[0;34m(\u001b[0m\u001b[0;36m0\u001b[0m\u001b[0;34m,\u001b[0m\u001b[0;36m7\u001b[0m\u001b[0;34m)\u001b[0m\u001b[0;34m:\u001b[0m\u001b[0;34m\u001b[0m\u001b[0m\n",
      "\u001b[0;31mNameError\u001b[0m: name 'confusion_matrix' is not defined"
     ]
    }
   ],
   "source": [
    "\n",
    "cm = confusion_matrix(y_true,y_pred)\n",
    "\n",
    "matrix_proportions = np.zeros((7,7))\n",
    "for i in range(0,7):\n",
    "    matrix_proportions[i,:] = cm[i,:]/float(cm[i,:].sum())\n",
    "#names=['hate speech','offensive','neither']\n",
    "#names=['insult','non-insult','neither']\n",
    "names = ['ChangePassword', 'DeleteAccount', 'ExportData', 'FilterSpam', 'FindAlternative', 'SyncAccounts', 'None']\n",
    "#names = ['gotoPlace','placeAccommodation','placeExplore','placeInformation','placeLogistics']\n",
    "#names = ['Make Update','None','Setup Printer','Shutdown Computer','Software Recommendation']\n",
    "#names = ['P','N','O']\n",
    "\n",
    "confusion_df = pd.DataFrame(matrix_proportions, index=names,columns=names)\n",
    "plt.figure(figsize=(5,5))\n",
    "seaborn.heatmap(confusion_df,annot=True,annot_kws={\"size\": 12},cmap='gist_gray_r',cbar=False, square=True,fmt='.2f')\n",
    "plt.ylabel('True categories',fontsize=14)\n",
    "plt.xlabel('Predicted categories',fontsize=14)\n",
    "plt.tick_params(labelsize=12)\n"
   ]
  },
  {
   "cell_type": "code",
   "execution_count": 0,
   "metadata": {
    "colab": {
     "autoexec": {
      "startup": false,
      "wait_interval": 0
     }
    },
    "colab_type": "code",
    "collapsed": true,
    "id": "C2z3HqyszEnr"
   },
   "outputs": [],
   "source": [
    "!pip install -U -q PyDrive\n"
   ]
  },
  {
   "cell_type": "code",
   "execution_count": 0,
   "metadata": {
    "colab": {
     "autoexec": {
      "startup": false,
      "wait_interval": 0
     }
    },
    "colab_type": "code",
    "collapsed": true,
    "id": "N1B9VUZc46oa"
   },
   "outputs": [],
   "source": [
    "# Install the PyDrive wrapper & import libraries.\n",
    "# This only needs to be done once in a notebook.\n",
    "from pydrive.auth import GoogleAuth\n",
    "from pydrive.drive import GoogleDrive\n",
    "from google.colab import auth\n",
    "from oauth2client.client import GoogleCredentials"
   ]
  },
  {
   "cell_type": "code",
   "execution_count": 159,
   "metadata": {
    "colab": {
     "autoexec": {
      "startup": false,
      "wait_interval": 0
     },
     "base_uri": "https://localhost:8080/",
     "height": 34,
     "output_extras": [
      {
       "item_id": 1
      }
     ]
    },
    "colab_type": "code",
    "executionInfo": {
     "elapsed": 1967,
     "status": "ok",
     "timestamp": 1520353753757,
     "user": {
      "displayName": "RAUNAK ROBINKUMAR AGARWAL 1540239",
      "photoUrl": "https://lh3.googleusercontent.com/a/default-user=s128",
      "userId": "109577210923723476478"
     },
     "user_tz": -330
    },
    "id": "klhsmbM1zGP3",
    "outputId": "18e6cf18-1d53-4fc9-9012-bb7490980956"
   },
   "outputs": [
    {
     "name": "stdout",
     "output_type": "stream",
     "text": [
      "Uploaded file with ID 1dtIaboZbqHYVZCDoI3vumlUNaK_C-syE\n"
     ]
    }
   ],
   "source": [
    "\n",
    "\n",
    "# Authenticate and create the PyDrive client.\n",
    "# This only needs to be done once in a notebook.\n",
    "auth.authenticate_user()\n",
    "gauth = GoogleAuth()\n",
    "gauth.credentials = GoogleCredentials.get_application_default()\n",
    "drive = GoogleDrive(gauth)\n",
    "\n",
    "# Create & upload a text file.\n",
    "file1 = drive.CreateFile({'title':'CNN Travel.csv', 'mimeType':'text/csv'})\n",
    "file1.SetContentFile(\"CNN Travel.csv\")\n",
    "file1.Upload()\n",
    "print('Uploaded file with ID {}'.format(uploaded.get('id')))"
   ]
  }
 ],
 "metadata": {
  "accelerator": "GPU",
  "colab": {
   "collapsed_sections": [],
   "default_view": {},
   "name": "STAT.ipynb",
   "provenance": [],
   "version": "0.3.2",
   "views": {}
  },
  "kernelspec": {
   "display_name": "Python 2",
   "language": "python",
   "name": "python2"
  },
  "language_info": {
   "codemirror_mode": {
    "name": "ipython",
    "version": 3
   },
   "file_extension": ".py",
   "mimetype": "text/x-python",
   "name": "python",
   "nbconvert_exporter": "python",
   "pygments_lexer": "ipython3",
   "version": "3.6.4"
  }
 },
 "nbformat": 4,
 "nbformat_minor": 1
}
