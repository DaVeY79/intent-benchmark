{
 "cells": [
  {
   "cell_type": "code",
   "execution_count": 1,
   "metadata": {
    "collapsed": true
   },
   "outputs": [],
   "source": [
    "import spacy\n",
    "import time\n",
    "import pandas as pd\n",
    "import numpy as np\n",
    "from sklearn.svm import LinearSVC\n",
    "parser = spacy.load('en_core_web_lg')"
   ]
  },
  {
   "cell_type": "code",
   "execution_count": 2,
   "metadata": {
    "collapsed": true
   },
   "outputs": [],
   "source": [
    "def timeit(method):\n",
    "\n",
    "    def timed(*args, **kw):\n",
    "        ts = time.time()\n",
    "        result = method(*args, **kw)\n",
    "        te = time.time()\n",
    "\n",
    "        print ('%r (%r, %r) %2.2f sec' % \\\n",
    "              (method.__name__, args, kw, te-ts))\n",
    "        return result\n",
    "\n",
    "    return timed"
   ]
  },
  {
   "cell_type": "code",
   "execution_count": 3,
   "metadata": {
    "collapsed": true
   },
   "outputs": [],
   "source": [
    "df = pd.read_csv('../datasets/restaurant data.csv',header = 0)"
   ]
  },
  {
   "cell_type": "code",
   "execution_count": 4,
   "metadata": {},
   "outputs": [
    {
     "name": "stdout",
     "output_type": "stream",
     "text": [
      "                                                text      intent\n",
      "0  How do I make a table registration using Zomato ?     inquiry\n",
      "1                    I want to cancel my reservation        help\n",
      "2               Do you offer food delivery as well ?     inquiry\n",
      "3  Can you suggest Vietnamese restaurants in Korm...  suggestion\n",
      "4  How do I get myself added as a blogger using z...     inquiry\n"
     ]
    }
   ],
   "source": [
    "print(df.head())"
   ]
  },
  {
   "cell_type": "code",
   "execution_count": 5,
   "metadata": {
    "collapsed": true
   },
   "outputs": [],
   "source": [
    "\n",
    "from sklearn.model_selection import train_test_split\n",
    "X = np.array(df['text'])\n",
    "y = np.array(df['intent'])\n",
    "X_train,X_test,y_train,y_test = train_test_split(X,y,shuffle = True)"
   ]
  },
  {
   "cell_type": "code",
   "execution_count": 6,
   "metadata": {
    "collapsed": true
   },
   "outputs": [],
   "source": [
    "train_data = np.array(list(zip(X_train,y_train)))\n",
    "TRAIN = pd.DataFrame(train_data)\n",
    "test_data = np.array(list(zip(X_test,y_test)))\n",
    "TEST = pd.DataFrame(test_data)"
   ]
  },
  {
   "cell_type": "code",
   "execution_count": 7,
   "metadata": {
    "collapsed": true
   },
   "outputs": [],
   "source": [
    "from sklearn.svm import LinearSVC\n",
    "from sklearn.svm import SVC\n",
    "from sklearn.pipeline import Pipeline\n",
    "from sklearn.feature_extraction.text import CountVectorizer\n",
    "from sklearn.linear_model import LogisticRegression"
   ]
  },
  {
   "cell_type": "code",
   "execution_count": 8,
   "metadata": {
    "collapsed": true
   },
   "outputs": [],
   "source": [
    "def tokenizeText(sample):\n",
    "    tokens = parser(sample)\n",
    "    return tokens.vector\n",
    "    \n",
    "#     tokens = parser(sample)\n",
    "#     lemmas = []\n",
    "#     for tok in tokens:\n",
    "#         lemmas.append(tok.lemma_.lower().strip() if tok.lemma_ != \"-PRON-\" else tok.lower_)\n",
    "#     tokens = lemmas\n",
    "#     #tokens = [word.lemma_ for word in tokens if word.lemma_ != \"-PRON-\"]\n",
    "#     #tokens = [tok for tok in tokens if tok not in set(SYMBOLS)|STOP_WORDS]\n",
    "    \n",
    "#     while \"\" in tokens:\n",
    "#         tokens.remove(\"\")\n",
    "#     while \" \" in tokens:\n",
    "#         tokens.remove(\" \")\n",
    "#     while \"\\n\" in tokens:\n",
    "#         tokens.remove(\"\\n\")\n",
    "#     while \"\\n\\n\" in tokens:\n",
    "#         tokens.remove(\"\\n\\n\")\n",
    "\n",
    "#     return tokens"
   ]
  },
  {
   "cell_type": "code",
   "execution_count": 9,
   "metadata": {
    "collapsed": true
   },
   "outputs": [],
   "source": [
    "def append_vectors(row):\n",
    "    sample = row[0]\n",
    "    vector = tokenizeText(sample)\n",
    "    size = len(vector)\n",
    "    row['vector'] = vector\n",
    "    #row['size'] = size\n",
    "    return row\n"
   ]
  },
  {
   "cell_type": "code",
   "execution_count": 10,
   "metadata": {
    "collapsed": true
   },
   "outputs": [],
   "source": [
    "def featurize(dataset):\n",
    "    dataset = dataset.apply(append_vectors, axis = 1)\n",
    "    return dataset\n"
   ]
  },
  {
   "cell_type": "code",
   "execution_count": 11,
   "metadata": {},
   "outputs": [
    {
     "data": {
      "text/html": [
       "<div>\n",
       "<style>\n",
       "    .dataframe thead tr:only-child th {\n",
       "        text-align: right;\n",
       "    }\n",
       "\n",
       "    .dataframe thead th {\n",
       "        text-align: left;\n",
       "    }\n",
       "\n",
       "    .dataframe tbody tr th {\n",
       "        vertical-align: top;\n",
       "    }\n",
       "</style>\n",
       "<table border=\"1\" class=\"dataframe\">\n",
       "  <thead>\n",
       "    <tr style=\"text-align: right;\">\n",
       "      <th></th>\n",
       "      <th>text</th>\n",
       "      <th>intent</th>\n",
       "      <th>vector</th>\n",
       "    </tr>\n",
       "  </thead>\n",
       "  <tbody>\n",
       "    <tr>\n",
       "      <th>0</th>\n",
       "      <td>Quirky ambience , decent service and awesome P...</td>\n",
       "      <td>compliment</td>\n",
       "      <td>[0.126237, 0.099554, -0.0978204, 0.00943531, 0...</td>\n",
       "    </tr>\n",
       "    <tr>\n",
       "      <th>1</th>\n",
       "      <td>The empty plate tells a story. It is hands dow...</td>\n",
       "      <td>compliment</td>\n",
       "      <td>[0.0211373, 0.123354, -0.0391419, -0.0698811, ...</td>\n",
       "    </tr>\n",
       "    <tr>\n",
       "      <th>2</th>\n",
       "      <td>I want an invoice for my order.</td>\n",
       "      <td>help</td>\n",
       "      <td>[-0.0666859, 0.220541, -0.22886, -0.0182869, 0...</td>\n",
       "    </tr>\n",
       "    <tr>\n",
       "      <th>3</th>\n",
       "      <td>I want to edit my Zomato blogger profile.</td>\n",
       "      <td>help</td>\n",
       "      <td>[0.061845, 0.109341, -0.310407, 0.0497672, 0.0...</td>\n",
       "    </tr>\n",
       "    <tr>\n",
       "      <th>4</th>\n",
       "      <td>How do I make a table registration using Zomato ?</td>\n",
       "      <td>inquiry</td>\n",
       "      <td>[-0.0346227, 0.0484739, -0.280154, -0.0162976,...</td>\n",
       "    </tr>\n",
       "  </tbody>\n",
       "</table>\n",
       "</div>"
      ],
      "text/plain": [
       "                                                text      intent  \\\n",
       "0  Quirky ambience , decent service and awesome P...  compliment   \n",
       "1  The empty plate tells a story. It is hands dow...  compliment   \n",
       "2                    I want an invoice for my order.        help   \n",
       "3          I want to edit my Zomato blogger profile.        help   \n",
       "4  How do I make a table registration using Zomato ?     inquiry   \n",
       "\n",
       "                                              vector  \n",
       "0  [0.126237, 0.099554, -0.0978204, 0.00943531, 0...  \n",
       "1  [0.0211373, 0.123354, -0.0391419, -0.0698811, ...  \n",
       "2  [-0.0666859, 0.220541, -0.22886, -0.0182869, 0...  \n",
       "3  [0.061845, 0.109341, -0.310407, 0.0497672, 0.0...  \n",
       "4  [-0.0346227, 0.0484739, -0.280154, -0.0162976,...  "
      ]
     },
     "execution_count": 11,
     "metadata": {},
     "output_type": "execute_result"
    }
   ],
   "source": [
    "training_data = featurize(TRAIN)\n",
    "training_data.columns = [\"text\",\"intent\",\"vector\"]\n",
    "training_data.head()"
   ]
  },
  {
   "cell_type": "code",
   "execution_count": 12,
   "metadata": {
    "collapsed": true
   },
   "outputs": [],
   "source": [
    "X_train = training_data['vector']\n",
    "y_train = training_data['intent']"
   ]
  },
  {
   "cell_type": "code",
   "execution_count": 13,
   "metadata": {
    "collapsed": true
   },
   "outputs": [],
   "source": [
    "clf = LinearSVC()\n",
    "X_train = np.array(list(X_train), dtype=np.float)"
   ]
  },
  {
   "cell_type": "code",
   "execution_count": 14,
   "metadata": {},
   "outputs": [
    {
     "data": {
      "text/plain": [
       "LinearSVC(C=1.0, class_weight=None, dual=True, fit_intercept=True,\n",
       "     intercept_scaling=1, loss='squared_hinge', max_iter=1000,\n",
       "     multi_class='ovr', penalty='l2', random_state=None, tol=0.0001,\n",
       "     verbose=0)"
      ]
     },
     "execution_count": 14,
     "metadata": {},
     "output_type": "execute_result"
    }
   ],
   "source": [
    "clf.fit(X_train, y_train)\n",
    "#print(cross_val_score(clf,X_train,y_train))"
   ]
  },
  {
   "cell_type": "code",
   "execution_count": 15,
   "metadata": {
    "collapsed": true
   },
   "outputs": [],
   "source": [
    "def append_svc_response(row):\n",
    "    utterance = row['vector']\n",
    "    ip = utterance.reshape(1,-1)\n",
    "    #ip = np.array(list(utterance),dtype = np.float)\n",
    "    #ip = pd.Series(utterance)\n",
    "    \n",
    "    response = clf.predict(ip)[0]\n",
    "    \n",
    "    try:\n",
    "        row['predicted'] = response\n",
    "        \"\"\"\n",
    "        if response[2]:\n",
    "            row['predicted_score'] = response[2]\n",
    "        else:\n",
    "            row['predicted_score'] = 0\n",
    "        \"\"\"\n",
    "        \n",
    "        \n",
    "        #print(\"q = {}, ans = {}\" .format(utterance,response))\n",
    "            \n",
    "    except Exception as e:\n",
    "        row['predicted'] = None\n",
    "        #row['predicted_score'] = 0\n",
    "        print(\"q = {}, ans = {}\" .format(utterance,None))\n",
    "    \n",
    "    return row"
   ]
  },
  {
   "cell_type": "code",
   "execution_count": 16,
   "metadata": {
    "collapsed": true
   },
   "outputs": [],
   "source": [
    "def label_correct_responses(row):\n",
    "    expected = row[1]\n",
    "    predicted = row['predicted']\n",
    "    \n",
    "    if expected == predicted:\n",
    "        row['Correct'] = 1\n",
    "    else:\n",
    "        row['Correct'] = 0\n",
    "    \n",
    "    return row"
   ]
  },
  {
   "cell_type": "code",
   "execution_count": 17,
   "metadata": {
    "collapsed": true
   },
   "outputs": [],
   "source": [
    "@timeit\n",
    "def svc_test(test, write = False):\n",
    "    test = test.apply(append_svc_response, axis = 1)\n",
    "    test = test.apply(label_correct_responses, axis = 1)\n",
    "    print(test['Correct'].mean())\n",
    "    \n",
    "    if write:\n",
    "        test.to_csv('Word2vec with SVC.csv')\n",
    "    \n",
    "    return test\n"
   ]
  },
  {
   "cell_type": "code",
   "execution_count": 18,
   "metadata": {},
   "outputs": [
    {
     "name": "stdout",
     "output_type": "stream",
     "text": [
      "0.72\n",
      "'svc_test' ((                                                    0           1  \\\n",
      "0                Do you offer food delivery as well ?     inquiry   \n",
      "1   Where can I find pet friendly cafes in Ahmedab...  suggestion   \n",
      "2   Best place for a get together and team dinners...  compliment   \n",
      "3   Biryani was below average, rice and gravy was ...       issue   \n",
      "4   The food is really yummy and the ambience is s...  compliment   \n",
      "5   I want to unsubscribe from Zomato newsletter a...        help   \n",
      "6            When will Zomato gold be available again     inquiry   \n",
      "7   Why was my blog post deleted from the Zomato s...        help   \n",
      "8   One of the oldest brewery in the city with a g...  compliment   \n",
      "9    Will Swiggy be accountable for quality/quantity?     inquiry   \n",
      "10       Delivery agent took over 2 hours to  deliver       issue   \n",
      "11          I have a sponsorship proposal for Swiggy.        help   \n",
      "12  Are there any Japanese restaurants in Gurgaon ...  suggestion   \n",
      "13       Did not receive refund for cancelled order ?       issue   \n",
      "14  Can I get 2+2 on drinks at Zomato Gold Drinks ...     inquiry   \n",
      "15            I want to provide special instructions.        help   \n",
      "16  I did not receive referral coupon as assured b...        help   \n",
      "17               I have packaging or spillage issues.       issue   \n",
      "18  What place do you recommend for churros Oliver...  suggestion   \n",
      "19   Bad dining experience in concern to food serv...       issue   \n",
      "20  Friendly and quick service, great ambience but...       issue   \n",
      "21        My order hasn't reached but shows delivered        help   \n",
      "22  Worst service ever !! Never coming back to thi...       issue   \n",
      "23                    Is there a minimum order value?     inquiry   \n",
      "24  I ordered the farmhouse veg pizza and thought ...       issue   \n",
      "\n",
      "                                               vector  \n",
      "0   [-0.173946, 0.219213, -0.161819, -0.212255, 0....  \n",
      "1   [0.114198, 0.218588, -0.18886, -0.197642, 0.38...  \n",
      "2   [-0.138739, 0.0298069, 0.0109568, -0.0734907, ...  \n",
      "3   [-0.210329, 0.242726, -0.0421341, -0.12756, 0....  \n",
      "4   [-0.0843063, 0.131123, -0.156124, -0.111926, 0...  \n",
      "5   [-0.0296337, 0.168432, -0.240266, 0.06516, 0.0...  \n",
      "6   [0.016505, 0.103658, -0.0460616, -0.036939, 0....  \n",
      "7   [-0.0882711, 0.201262, -0.276794, 0.106356, -0...  \n",
      "8   [0.0144093, 0.0573523, -0.0166555, -0.166056, ...  \n",
      "9   [-0.194883, 0.277057, -0.125059, -0.0127154, 0...  \n",
      "10  [-0.0553832, 0.242502, -0.0921828, -0.00774544...  \n",
      "11  [-0.00226123, 0.0770084, -0.163077, -0.0792096...  \n",
      "12  [-0.109498, 0.120904, -0.0549774, -0.219279, 0...  \n",
      "13  [-0.158461, 0.259485, -0.196011, -0.115253, -0...  \n",
      "14  [-0.103299, 0.0795741, -0.040934, -0.162631, 0...  \n",
      "15  [0.021665, 0.147669, -0.192157, -0.0616964, 0....  \n",
      "16  [-0.154111, 0.164769, -0.227148, -0.102674, -6...  \n",
      "17  [-0.14639, 0.141784, -0.178484, -0.156889, 0.0...  \n",
      "18  [0.0824165, 0.128427, -0.111662, -0.140528, 0....  \n",
      "19  [-0.13486, 0.0841447, 0.0271523, -0.16608, 0.1...  \n",
      "20  [-0.0627328, 0.335309, -0.0952155, -0.133031, ...  \n",
      "21  [-0.0582463, 0.312509, -0.14891, 0.0199663, 0....  \n",
      "22  [-0.0127701, 0.222448, 0.0107082, -0.108309, 0...  \n",
      "23  [-0.0782151, 0.349726, -0.0164218, -0.0302381,...  \n",
      "24  [-0.0545825, 0.174151, -0.120299, -0.15493, 0....  , False), {}) 0.04 sec\n"
     ]
    },
    {
     "data": {
      "text/html": [
       "<div>\n",
       "<style>\n",
       "    .dataframe thead tr:only-child th {\n",
       "        text-align: right;\n",
       "    }\n",
       "\n",
       "    .dataframe thead th {\n",
       "        text-align: left;\n",
       "    }\n",
       "\n",
       "    .dataframe tbody tr th {\n",
       "        vertical-align: top;\n",
       "    }\n",
       "</style>\n",
       "<table border=\"1\" class=\"dataframe\">\n",
       "  <thead>\n",
       "    <tr style=\"text-align: right;\">\n",
       "      <th></th>\n",
       "      <th>utterance</th>\n",
       "      <th>expected intent</th>\n",
       "      <th>vector</th>\n",
       "      <th>predicted</th>\n",
       "      <th>Correct</th>\n",
       "    </tr>\n",
       "  </thead>\n",
       "  <tbody>\n",
       "    <tr>\n",
       "      <th>0</th>\n",
       "      <td>Do you offer food delivery as well ?</td>\n",
       "      <td>inquiry</td>\n",
       "      <td>[-0.173946, 0.219213, -0.161819, -0.212255, 0....</td>\n",
       "      <td>inquiry</td>\n",
       "      <td>1</td>\n",
       "    </tr>\n",
       "    <tr>\n",
       "      <th>1</th>\n",
       "      <td>Where can I find pet friendly cafes in Ahmedab...</td>\n",
       "      <td>suggestion</td>\n",
       "      <td>[0.114198, 0.218588, -0.18886, -0.197642, 0.38...</td>\n",
       "      <td>suggestion</td>\n",
       "      <td>1</td>\n",
       "    </tr>\n",
       "    <tr>\n",
       "      <th>2</th>\n",
       "      <td>Best place for a get together and team dinners...</td>\n",
       "      <td>compliment</td>\n",
       "      <td>[-0.138739, 0.0298069, 0.0109568, -0.0734907, ...</td>\n",
       "      <td>issue</td>\n",
       "      <td>0</td>\n",
       "    </tr>\n",
       "    <tr>\n",
       "      <th>3</th>\n",
       "      <td>Biryani was below average, rice and gravy was ...</td>\n",
       "      <td>issue</td>\n",
       "      <td>[-0.210329, 0.242726, -0.0421341, -0.12756, 0....</td>\n",
       "      <td>issue</td>\n",
       "      <td>1</td>\n",
       "    </tr>\n",
       "    <tr>\n",
       "      <th>4</th>\n",
       "      <td>The food is really yummy and the ambience is s...</td>\n",
       "      <td>compliment</td>\n",
       "      <td>[-0.0843063, 0.131123, -0.156124, -0.111926, 0...</td>\n",
       "      <td>compliment</td>\n",
       "      <td>1</td>\n",
       "    </tr>\n",
       "    <tr>\n",
       "      <th>5</th>\n",
       "      <td>I want to unsubscribe from Zomato newsletter a...</td>\n",
       "      <td>help</td>\n",
       "      <td>[-0.0296337, 0.168432, -0.240266, 0.06516, 0.0...</td>\n",
       "      <td>help</td>\n",
       "      <td>1</td>\n",
       "    </tr>\n",
       "    <tr>\n",
       "      <th>6</th>\n",
       "      <td>When will Zomato gold be available again</td>\n",
       "      <td>inquiry</td>\n",
       "      <td>[0.016505, 0.103658, -0.0460616, -0.036939, 0....</td>\n",
       "      <td>issue</td>\n",
       "      <td>0</td>\n",
       "    </tr>\n",
       "    <tr>\n",
       "      <th>7</th>\n",
       "      <td>Why was my blog post deleted from the Zomato s...</td>\n",
       "      <td>help</td>\n",
       "      <td>[-0.0882711, 0.201262, -0.276794, 0.106356, -0...</td>\n",
       "      <td>issue</td>\n",
       "      <td>0</td>\n",
       "    </tr>\n",
       "    <tr>\n",
       "      <th>8</th>\n",
       "      <td>One of the oldest brewery in the city with a g...</td>\n",
       "      <td>compliment</td>\n",
       "      <td>[0.0144093, 0.0573523, -0.0166555, -0.166056, ...</td>\n",
       "      <td>compliment</td>\n",
       "      <td>1</td>\n",
       "    </tr>\n",
       "    <tr>\n",
       "      <th>9</th>\n",
       "      <td>Will Swiggy be accountable for quality/quantity?</td>\n",
       "      <td>inquiry</td>\n",
       "      <td>[-0.194883, 0.277057, -0.125059, -0.0127154, 0...</td>\n",
       "      <td>issue</td>\n",
       "      <td>0</td>\n",
       "    </tr>\n",
       "    <tr>\n",
       "      <th>10</th>\n",
       "      <td>Delivery agent took over 2 hours to  deliver</td>\n",
       "      <td>issue</td>\n",
       "      <td>[-0.0553832, 0.242502, -0.0921828, -0.00774544...</td>\n",
       "      <td>issue</td>\n",
       "      <td>1</td>\n",
       "    </tr>\n",
       "    <tr>\n",
       "      <th>11</th>\n",
       "      <td>I have a sponsorship proposal for Swiggy.</td>\n",
       "      <td>help</td>\n",
       "      <td>[-0.00226123, 0.0770084, -0.163077, -0.0792096...</td>\n",
       "      <td>help</td>\n",
       "      <td>1</td>\n",
       "    </tr>\n",
       "    <tr>\n",
       "      <th>12</th>\n",
       "      <td>Are there any Japanese restaurants in Gurgaon ...</td>\n",
       "      <td>suggestion</td>\n",
       "      <td>[-0.109498, 0.120904, -0.0549774, -0.219279, 0...</td>\n",
       "      <td>suggestion</td>\n",
       "      <td>1</td>\n",
       "    </tr>\n",
       "    <tr>\n",
       "      <th>13</th>\n",
       "      <td>Did not receive refund for cancelled order ?</td>\n",
       "      <td>issue</td>\n",
       "      <td>[-0.158461, 0.259485, -0.196011, -0.115253, -0...</td>\n",
       "      <td>issue</td>\n",
       "      <td>1</td>\n",
       "    </tr>\n",
       "    <tr>\n",
       "      <th>14</th>\n",
       "      <td>Can I get 2+2 on drinks at Zomato Gold Drinks ...</td>\n",
       "      <td>inquiry</td>\n",
       "      <td>[-0.103299, 0.0795741, -0.040934, -0.162631, 0...</td>\n",
       "      <td>suggestion</td>\n",
       "      <td>0</td>\n",
       "    </tr>\n",
       "    <tr>\n",
       "      <th>15</th>\n",
       "      <td>I want to provide special instructions.</td>\n",
       "      <td>help</td>\n",
       "      <td>[0.021665, 0.147669, -0.192157, -0.0616964, 0....</td>\n",
       "      <td>help</td>\n",
       "      <td>1</td>\n",
       "    </tr>\n",
       "    <tr>\n",
       "      <th>16</th>\n",
       "      <td>I did not receive referral coupon as assured b...</td>\n",
       "      <td>help</td>\n",
       "      <td>[-0.154111, 0.164769, -0.227148, -0.102674, -6...</td>\n",
       "      <td>issue</td>\n",
       "      <td>0</td>\n",
       "    </tr>\n",
       "    <tr>\n",
       "      <th>17</th>\n",
       "      <td>I have packaging or spillage issues.</td>\n",
       "      <td>issue</td>\n",
       "      <td>[-0.14639, 0.141784, -0.178484, -0.156889, 0.0...</td>\n",
       "      <td>issue</td>\n",
       "      <td>1</td>\n",
       "    </tr>\n",
       "    <tr>\n",
       "      <th>18</th>\n",
       "      <td>What place do you recommend for churros Oliver...</td>\n",
       "      <td>suggestion</td>\n",
       "      <td>[0.0824165, 0.128427, -0.111662, -0.140528, 0....</td>\n",
       "      <td>suggestion</td>\n",
       "      <td>1</td>\n",
       "    </tr>\n",
       "    <tr>\n",
       "      <th>19</th>\n",
       "      <td>Bad dining experience in concern to food serv...</td>\n",
       "      <td>issue</td>\n",
       "      <td>[-0.13486, 0.0841447, 0.0271523, -0.16608, 0.1...</td>\n",
       "      <td>issue</td>\n",
       "      <td>1</td>\n",
       "    </tr>\n",
       "    <tr>\n",
       "      <th>20</th>\n",
       "      <td>Friendly and quick service, great ambience but...</td>\n",
       "      <td>issue</td>\n",
       "      <td>[-0.0627328, 0.335309, -0.0952155, -0.133031, ...</td>\n",
       "      <td>issue</td>\n",
       "      <td>1</td>\n",
       "    </tr>\n",
       "    <tr>\n",
       "      <th>21</th>\n",
       "      <td>My order hasn't reached but shows delivered</td>\n",
       "      <td>help</td>\n",
       "      <td>[-0.0582463, 0.312509, -0.14891, 0.0199663, 0....</td>\n",
       "      <td>issue</td>\n",
       "      <td>0</td>\n",
       "    </tr>\n",
       "    <tr>\n",
       "      <th>22</th>\n",
       "      <td>Worst service ever !! Never coming back to thi...</td>\n",
       "      <td>issue</td>\n",
       "      <td>[-0.0127701, 0.222448, 0.0107082, -0.108309, 0...</td>\n",
       "      <td>issue</td>\n",
       "      <td>1</td>\n",
       "    </tr>\n",
       "    <tr>\n",
       "      <th>23</th>\n",
       "      <td>Is there a minimum order value?</td>\n",
       "      <td>inquiry</td>\n",
       "      <td>[-0.0782151, 0.349726, -0.0164218, -0.0302381,...</td>\n",
       "      <td>inquiry</td>\n",
       "      <td>1</td>\n",
       "    </tr>\n",
       "    <tr>\n",
       "      <th>24</th>\n",
       "      <td>I ordered the farmhouse veg pizza and thought ...</td>\n",
       "      <td>issue</td>\n",
       "      <td>[-0.0545825, 0.174151, -0.120299, -0.15493, 0....</td>\n",
       "      <td>issue</td>\n",
       "      <td>1</td>\n",
       "    </tr>\n",
       "  </tbody>\n",
       "</table>\n",
       "</div>"
      ],
      "text/plain": [
       "                                            utterance expected intent  \\\n",
       "0                Do you offer food delivery as well ?         inquiry   \n",
       "1   Where can I find pet friendly cafes in Ahmedab...      suggestion   \n",
       "2   Best place for a get together and team dinners...      compliment   \n",
       "3   Biryani was below average, rice and gravy was ...           issue   \n",
       "4   The food is really yummy and the ambience is s...      compliment   \n",
       "5   I want to unsubscribe from Zomato newsletter a...            help   \n",
       "6            When will Zomato gold be available again         inquiry   \n",
       "7   Why was my blog post deleted from the Zomato s...            help   \n",
       "8   One of the oldest brewery in the city with a g...      compliment   \n",
       "9    Will Swiggy be accountable for quality/quantity?         inquiry   \n",
       "10       Delivery agent took over 2 hours to  deliver           issue   \n",
       "11          I have a sponsorship proposal for Swiggy.            help   \n",
       "12  Are there any Japanese restaurants in Gurgaon ...      suggestion   \n",
       "13       Did not receive refund for cancelled order ?           issue   \n",
       "14  Can I get 2+2 on drinks at Zomato Gold Drinks ...         inquiry   \n",
       "15            I want to provide special instructions.            help   \n",
       "16  I did not receive referral coupon as assured b...            help   \n",
       "17               I have packaging or spillage issues.           issue   \n",
       "18  What place do you recommend for churros Oliver...      suggestion   \n",
       "19   Bad dining experience in concern to food serv...           issue   \n",
       "20  Friendly and quick service, great ambience but...           issue   \n",
       "21        My order hasn't reached but shows delivered            help   \n",
       "22  Worst service ever !! Never coming back to thi...           issue   \n",
       "23                    Is there a minimum order value?         inquiry   \n",
       "24  I ordered the farmhouse veg pizza and thought ...           issue   \n",
       "\n",
       "                                               vector   predicted  Correct  \n",
       "0   [-0.173946, 0.219213, -0.161819, -0.212255, 0....     inquiry        1  \n",
       "1   [0.114198, 0.218588, -0.18886, -0.197642, 0.38...  suggestion        1  \n",
       "2   [-0.138739, 0.0298069, 0.0109568, -0.0734907, ...       issue        0  \n",
       "3   [-0.210329, 0.242726, -0.0421341, -0.12756, 0....       issue        1  \n",
       "4   [-0.0843063, 0.131123, -0.156124, -0.111926, 0...  compliment        1  \n",
       "5   [-0.0296337, 0.168432, -0.240266, 0.06516, 0.0...        help        1  \n",
       "6   [0.016505, 0.103658, -0.0460616, -0.036939, 0....       issue        0  \n",
       "7   [-0.0882711, 0.201262, -0.276794, 0.106356, -0...       issue        0  \n",
       "8   [0.0144093, 0.0573523, -0.0166555, -0.166056, ...  compliment        1  \n",
       "9   [-0.194883, 0.277057, -0.125059, -0.0127154, 0...       issue        0  \n",
       "10  [-0.0553832, 0.242502, -0.0921828, -0.00774544...       issue        1  \n",
       "11  [-0.00226123, 0.0770084, -0.163077, -0.0792096...        help        1  \n",
       "12  [-0.109498, 0.120904, -0.0549774, -0.219279, 0...  suggestion        1  \n",
       "13  [-0.158461, 0.259485, -0.196011, -0.115253, -0...       issue        1  \n",
       "14  [-0.103299, 0.0795741, -0.040934, -0.162631, 0...  suggestion        0  \n",
       "15  [0.021665, 0.147669, -0.192157, -0.0616964, 0....        help        1  \n",
       "16  [-0.154111, 0.164769, -0.227148, -0.102674, -6...       issue        0  \n",
       "17  [-0.14639, 0.141784, -0.178484, -0.156889, 0.0...       issue        1  \n",
       "18  [0.0824165, 0.128427, -0.111662, -0.140528, 0....  suggestion        1  \n",
       "19  [-0.13486, 0.0841447, 0.0271523, -0.16608, 0.1...       issue        1  \n",
       "20  [-0.0627328, 0.335309, -0.0952155, -0.133031, ...       issue        1  \n",
       "21  [-0.0582463, 0.312509, -0.14891, 0.0199663, 0....       issue        0  \n",
       "22  [-0.0127701, 0.222448, 0.0107082, -0.108309, 0...       issue        1  \n",
       "23  [-0.0782151, 0.349726, -0.0164218, -0.0302381,...     inquiry        1  \n",
       "24  [-0.0545825, 0.174151, -0.120299, -0.15493, 0....       issue        1  "
      ]
     },
     "execution_count": 18,
     "metadata": {},
     "output_type": "execute_result"
    }
   ],
   "source": [
    "test_featurized = featurize(TEST)\n",
    "#test_featurized\n",
    "\n",
    "test_output = svc_test(test_featurized, False)\n",
    "test_output.columns = ['utterance','expected intent','vector','predicted','Correct']\n",
    "test_output"
   ]
  },
  {
   "cell_type": "code",
   "execution_count": 19,
   "metadata": {
    "collapsed": true
   },
   "outputs": [],
   "source": [
    "def predict(utterance):\n",
    "    row = pd.DataFrame({'utterance':[utterance]})\n",
    "    row = featurize(row)\n",
    "    test_input = np.array(list(row['vector']), dtype=np.float)\n",
    "    response = clf.predict(test_input)[0]\n",
    "    return response\n",
    "\n",
    "# r = pd.DataFrame({'utterance':[utterance]})\n",
    "# r = featurize(r)\n",
    "# #ip = pd.Series(r['vector'])\n",
    "# ip = np.array(list(r['vector']), dtype=np.float)\n",
    "\n",
    "# clf.predict(ip)\n",
    "# #response = clf.predict(ip)[0]\n",
    "# #response"
   ]
  },
  {
   "cell_type": "code",
   "execution_count": 20,
   "metadata": {
    "collapsed": true
   },
   "outputs": [],
   "source": [
    "test_output.to_csv('../datasets/Restaurant test(Word2vec with SVC).csv')"
   ]
  },
  {
   "cell_type": "code",
   "execution_count": 21,
   "metadata": {},
   "outputs": [
    {
     "data": {
      "text/plain": [
       "'suggestion'"
      ]
     },
     "execution_count": 21,
     "metadata": {},
     "output_type": "execute_result"
    }
   ],
   "source": [
    "utterance = \"Where can I get Ethiopian food ?\"\n",
    "predict(utterance)"
   ]
  },
  {
   "cell_type": "code",
   "execution_count": 22,
   "metadata": {
    "collapsed": true
   },
   "outputs": [],
   "source": [
    "training_data.to_csv('../datasets/Restaurant train(Word2vec with SVC).csv')"
   ]
  },
  {
   "cell_type": "code",
   "execution_count": 23,
   "metadata": {},
   "outputs": [
    {
     "data": {
      "text/plain": [
       "{'compliment', 'help', 'inquiry', 'issue', 'suggestion'}"
      ]
     },
     "execution_count": 23,
     "metadata": {},
     "output_type": "execute_result"
    }
   ],
   "source": [
    "set(training_data['intent'])"
   ]
  }
 ],
 "metadata": {
  "anaconda-cloud": {},
  "kernelspec": {
   "display_name": "Python 3",
   "language": "python",
   "name": "python3"
  },
  "language_info": {
   "codemirror_mode": {
    "name": "ipython",
    "version": 3
   },
   "file_extension": ".py",
   "mimetype": "text/x-python",
   "name": "python",
   "nbconvert_exporter": "python",
   "pygments_lexer": "ipython3",
   "version": "3.6.4"
  }
 },
 "nbformat": 4,
 "nbformat_minor": 1
}
