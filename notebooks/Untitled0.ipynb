{
 "cells": [
  {
   "cell_type": "code",
   "execution_count": 2,
   "metadata": {
    "colab": {
     "autoexec": {
      "startup": false,
      "wait_interval": 0
     },
     "base_uri": "https://localhost:8080/",
     "height": 2519,
     "output_extras": [
      {
       "item_id": 38
      },
      {
       "item_id": 73
      },
      {
       "item_id": 177
      },
      {
       "item_id": 195
      }
     ]
    },
    "colab_type": "code",
    "executionInfo": {
     "elapsed": 324494,
     "status": "ok",
     "timestamp": 1520853976433,
     "user": {
      "displayName": "RAUNAK ROBINKUMAR AGARWAL 1540239",
      "photoUrl": "https://lh3.googleusercontent.com/a/default-user=s128",
      "userId": "109577210923723476478"
     },
     "user_tz": -330
    },
    "id": "BadxTs63a7Hx",
    "outputId": "f4258c2e-7563-477c-f690-1cd72b96be7f"
   },
   "outputs": [
    {
     "name": "stdout",
     "output_type": "stream",
     "text": [
      "Collecting gensim\n",
      "  Downloading gensim-3.4.0-cp36-cp36m-manylinux1_x86_64.whl (22.6MB)\n",
      "\u001b[K    100% |████████████████████████████████| 22.6MB 66kB/s \n",
      "\u001b[?25hRequirement already up-to-date: six>=1.5.0 in /usr/local/lib/python3.6/dist-packages (from gensim)\n",
      "Collecting smart-open>=1.2.1 (from gensim)\n",
      "  Downloading smart_open-1.5.6.tar.gz\n",
      "Collecting scipy>=0.18.1 (from gensim)\n",
      "  Downloading scipy-1.0.0-cp36-cp36m-manylinux1_x86_64.whl (50.0MB)\n",
      "\u001b[K    100% |████████████████████████████████| 50.0MB 28kB/s \n",
      "\u001b[?25hCollecting numpy>=1.11.3 (from gensim)\n",
      "  Downloading numpy-1.14.1-cp36-cp36m-manylinux1_x86_64.whl (12.2MB)\n",
      "\u001b[K    100% |████████████████████████████████| 12.2MB 121kB/s \n",
      "\u001b[?25hCollecting boto3 (from smart-open>=1.2.1->gensim)\n",
      "  Downloading boto3-1.6.6-py2.py3-none-any.whl (128kB)\n",
      "\u001b[K    100% |████████████████████████████████| 133kB 9.0MB/s \n",
      "\u001b[?25hCollecting boto>=2.32 (from smart-open>=1.2.1->gensim)\n",
      "  Downloading boto-2.48.0-py2.py3-none-any.whl (1.4MB)\n",
      "\u001b[K    100% |████████████████████████████████| 1.4MB 1.0MB/s \n",
      "\u001b[?25hCollecting bz2file (from smart-open>=1.2.1->gensim)\n",
      "  Downloading bz2file-0.98.tar.gz\n",
      "Requirement already up-to-date: requests in /usr/local/lib/python3.6/dist-packages (from smart-open>=1.2.1->gensim)\n",
      "Collecting jmespath<1.0.0,>=0.7.1 (from boto3->smart-open>=1.2.1->gensim)\n",
      "  Downloading jmespath-0.9.3-py2.py3-none-any.whl\n",
      "Collecting s3transfer<0.2.0,>=0.1.10 (from boto3->smart-open>=1.2.1->gensim)\n",
      "  Downloading s3transfer-0.1.13-py2.py3-none-any.whl (59kB)\n",
      "\u001b[K    100% |████████████████████████████████| 61kB 10.0MB/s \n",
      "\u001b[?25hCollecting botocore<1.10.0,>=1.9.6 (from boto3->smart-open>=1.2.1->gensim)\n",
      "  Downloading botocore-1.9.6-py2.py3-none-any.whl (4.1MB)\n",
      "\u001b[K    100% |████████████████████████████████| 4.1MB 364kB/s \n",
      "\u001b[?25hRequirement already up-to-date: chardet<3.1.0,>=3.0.2 in /usr/local/lib/python3.6/dist-packages (from requests->smart-open>=1.2.1->gensim)\n",
      "Requirement already up-to-date: idna<2.7,>=2.5 in /usr/local/lib/python3.6/dist-packages (from requests->smart-open>=1.2.1->gensim)\n",
      "Requirement already up-to-date: urllib3<1.23,>=1.21.1 in /usr/local/lib/python3.6/dist-packages (from requests->smart-open>=1.2.1->gensim)\n",
      "Requirement already up-to-date: certifi>=2017.4.17 in /usr/local/lib/python3.6/dist-packages (from requests->smart-open>=1.2.1->gensim)\n",
      "Collecting docutils>=0.10 (from botocore<1.10.0,>=1.9.6->boto3->smart-open>=1.2.1->gensim)\n",
      "  Downloading docutils-0.14-py3-none-any.whl (543kB)\n",
      "\u001b[K    100% |████████████████████████████████| 552kB 2.3MB/s \n",
      "\u001b[?25hCollecting python-dateutil<3.0.0,>=2.1 (from botocore<1.10.0,>=1.9.6->boto3->smart-open>=1.2.1->gensim)\n",
      "  Downloading python_dateutil-2.7.0-py2.py3-none-any.whl (207kB)\n",
      "\u001b[K    100% |████████████████████████████████| 215kB 6.4MB/s \n",
      "\u001b[?25hBuilding wheels for collected packages: smart-open, bz2file\n",
      "  Running setup.py bdist_wheel for smart-open ... \u001b[?25ldone\n",
      "\u001b[?25h  Stored in directory: /content/.cache/pip/wheels/36/48/35/97efc2bd1b233627131c9a936c9de23681846db707b907d353\n",
      "  Running setup.py bdist_wheel for bz2file ... \u001b[?25ldone\n",
      "\u001b[?25h  Stored in directory: /content/.cache/pip/wheels/31/9c/20/996d65ca104cbca940b1b053299b68459391c01c774d073126\n",
      "Successfully built smart-open bz2file\n",
      "Installing collected packages: jmespath, docutils, python-dateutil, botocore, s3transfer, boto3, boto, bz2file, smart-open, numpy, scipy, gensim\n",
      "  Found existing installation: python-dateutil 2.5.3\n",
      "    Uninstalling python-dateutil-2.5.3:\n",
      "      Successfully uninstalled python-dateutil-2.5.3\n",
      "  Found existing installation: numpy 1.14.0\n",
      "    Uninstalling numpy-1.14.0:\n",
      "      Successfully uninstalled numpy-1.14.0\n",
      "  Found existing installation: scipy 0.19.1\n",
      "    Uninstalling scipy-0.19.1:\n",
      "      Successfully uninstalled scipy-0.19.1\n",
      "Successfully installed boto-2.48.0 boto3-1.6.6 botocore-1.9.6 bz2file-0.98 docutils-0.14 gensim-3.4.0 jmespath-0.9.3 numpy-1.14.1 python-dateutil-2.7.0 s3transfer-0.1.13 scipy-1.0.0 smart-open-1.5.6\n",
      "Collecting spacy\n",
      "  Downloading spacy-2.0.9.tar.gz (17.5MB)\n",
      "\u001b[K    100% |████████████████████████████████| 17.5MB 84kB/s \n",
      "\u001b[?25hCollecting cymem<1.32,>=1.30 (from spacy)\n",
      "  Downloading cymem-1.31.2.tar.gz\n",
      "Requirement already up-to-date: dill<0.3,>=0.2 in /usr/local/lib/python3.6/dist-packages (from spacy)\n",
      "Collecting ftfy<5.0.0,>=4.4.2 (from spacy)\n",
      "  Downloading ftfy-4.4.3.tar.gz (50kB)\n",
      "\u001b[K    100% |████████████████████████████████| 51kB 10.4MB/s \n",
      "\u001b[?25hCollecting html5lib==1.0b8 (from spacy)\n",
      "  Downloading html5lib-1.0b8.tar.gz (889kB)\n",
      "\u001b[K    100% |████████████████████████████████| 890kB 1.4MB/s \n",
      "\u001b[?25hCollecting msgpack-numpy==0.4.1 (from spacy)\n",
      "  Downloading msgpack_numpy-0.4.1-py2.py3-none-any.whl\n",
      "Collecting msgpack-python==0.5.4 (from spacy)\n",
      "  Downloading msgpack-python-0.5.4.tar.gz\n",
      "Collecting murmurhash<0.29,>=0.28 (from spacy)\n",
      "  Downloading murmurhash-0.28.0.tar.gz\n",
      "Requirement already up-to-date: numpy>=1.7 in /usr/local/lib/python3.6/dist-packages (from spacy)\n",
      "Collecting pathlib (from spacy)\n",
      "  Downloading pathlib-1.0.1.tar.gz (49kB)\n",
      "\u001b[K    100% |████████████████████████████████| 51kB 9.8MB/s \n",
      "\u001b[?25hCollecting plac<1.0.0,>=0.9.6 (from spacy)\n",
      "  Downloading plac-0.9.6-py2.py3-none-any.whl\n",
      "Collecting preshed<2.0.0,>=1.0.0 (from spacy)\n",
      "  Downloading preshed-1.0.0.tar.gz (89kB)\n",
      "\u001b[K    100% |████████████████████████████████| 92kB 9.7MB/s \n",
      "\u001b[?25hCollecting regex==2017.4.5 (from spacy)\n",
      "  Downloading regex-2017.04.05.tar.gz (601kB)\n",
      "\u001b[K    100% |████████████████████████████████| 604kB 2.0MB/s \n",
      "\u001b[?25hRequirement already up-to-date: requests<3.0.0,>=2.13.0 in /usr/local/lib/python3.6/dist-packages (from spacy)\n",
      "Requirement already up-to-date: six in /usr/local/lib/python3.6/dist-packages (from spacy)\n",
      "Collecting thinc<6.11.0,>=6.10.1 (from spacy)\n",
      "  Downloading thinc-6.10.2.tar.gz (1.2MB)\n",
      "\u001b[K    100% |████████████████████████████████| 1.2MB 1.1MB/s \n",
      "\u001b[?25hCollecting ujson>=1.35 (from spacy)\n",
      "  Downloading ujson-1.35.tar.gz (192kB)\n",
      "\u001b[K    100% |████████████████████████████████| 194kB 4.8MB/s \n",
      "\u001b[?25hRequirement already up-to-date: wcwidth in /usr/local/lib/python3.6/dist-packages (from ftfy<5.0.0,>=4.4.2->spacy)\n",
      "Requirement already up-to-date: idna<2.7,>=2.5 in /usr/local/lib/python3.6/dist-packages (from requests<3.0.0,>=2.13.0->spacy)\n",
      "Requirement already up-to-date: certifi>=2017.4.17 in /usr/local/lib/python3.6/dist-packages (from requests<3.0.0,>=2.13.0->spacy)\n",
      "Requirement already up-to-date: urllib3<1.23,>=1.21.1 in /usr/local/lib/python3.6/dist-packages (from requests<3.0.0,>=2.13.0->spacy)\n",
      "Requirement already up-to-date: chardet<3.1.0,>=3.0.2 in /usr/local/lib/python3.6/dist-packages (from requests<3.0.0,>=2.13.0->spacy)\n",
      "Collecting cytoolz<0.9,>=0.8 (from thinc<6.11.0,>=6.10.1->spacy)\n",
      "  Downloading cytoolz-0.8.2.tar.gz (386kB)\n",
      "\u001b[K    100% |████████████████████████████████| 389kB 3.0MB/s \n",
      "\u001b[?25hRequirement already up-to-date: termcolor in /usr/local/lib/python3.6/dist-packages (from thinc<6.11.0,>=6.10.1->spacy)\n",
      "Collecting tqdm<5.0.0,>=4.10.0 (from thinc<6.11.0,>=6.10.1->spacy)\n",
      "  Downloading tqdm-4.19.6-py2.py3-none-any.whl (52kB)\n",
      "\u001b[K    100% |████████████████████████████████| 61kB 10.7MB/s \n",
      "\u001b[?25hCollecting wrapt (from thinc<6.11.0,>=6.10.1->spacy)\n",
      "  Downloading wrapt-1.10.11.tar.gz\n",
      "Collecting toolz>=0.8.0 (from cytoolz<0.9,>=0.8->thinc<6.11.0,>=6.10.1->spacy)\n",
      "  Downloading toolz-0.9.0.tar.gz (45kB)\n",
      "\u001b[K    100% |████████████████████████████████| 51kB 10.7MB/s \n",
      "\u001b[?25hBuilding wheels for collected packages: spacy, cymem, ftfy, html5lib, msgpack-python, murmurhash, pathlib, preshed, regex, thinc, ujson, cytoolz, wrapt, toolz\n",
      "  Running setup.py bdist_wheel for spacy ... \u001b[?25ldone\n",
      "\u001b[?25h  Stored in directory: /content/.cache/pip/wheels/0a/7a/92/23f94d6a3e10192bdffa2d20836e28271801b459915c568049\n",
      "  Running setup.py bdist_wheel for cymem ... \u001b[?25ldone\n",
      "\u001b[?25h  Stored in directory: /content/.cache/pip/wheels/4b/2a/0e/dce3ff7a6f0f916906ef978afe512a7b5aef8abfd9ba988acf\n",
      "  Running setup.py bdist_wheel for ftfy ... \u001b[?25ldone\n",
      "\u001b[?25h  Stored in directory: /content/.cache/pip/wheels/ae/d7/4c/339066248431397227741c7fdc80ad85826188ee9b0c24b4c7\n",
      "  Running setup.py bdist_wheel for html5lib ... \u001b[?25ldone\n",
      "\u001b[?25h  Stored in directory: /content/.cache/pip/wheels/d4/d1/0b/a6b6f9f204af55c9bb8c97eae2a78b690b7150a7b850bb9403\n",
      "  Running setup.py bdist_wheel for msgpack-python ... \u001b[?25ldone\n",
      "\u001b[?25h  Stored in directory: /content/.cache/pip/wheels/49/fc/5d/07243edfc74536e0776f3f8901418e7596de0e3b887dd17d86\n",
      "  Running setup.py bdist_wheel for murmurhash ... \u001b[?25ldone\n",
      "\u001b[?25h  Stored in directory: /content/.cache/pip/wheels/67/30/e2/ef52a408eda4b23581669abfd1c1516a931d9e53f2e7616cb9\n",
      "  Running setup.py bdist_wheel for pathlib ... \u001b[?25ldone\n",
      "\u001b[?25h  Stored in directory: /content/.cache/pip/wheels/2a/23/a5/d8803db5d631e9f391fe6defe982a238bf5483062eeb34e841\n",
      "  Running setup.py bdist_wheel for preshed ... \u001b[?25ldone\n",
      "\u001b[?25h  Stored in directory: /content/.cache/pip/wheels/97/64/22/20fabf1f51039b799e64e46d0381b023cfdbe159c349d7c135\n",
      "  Running setup.py bdist_wheel for regex ... \u001b[?25ldone\n",
      "\u001b[?25h  Stored in directory: /content/.cache/pip/wheels/28/20/68/c71f468f76d9bd81730a7633ace0ad30507cf99166314109a1\n"
     ]
    },
    {
     "name": "stdout",
     "output_type": "stream",
     "text": [
      "  Running setup.py bdist_wheel for thinc ... \u001b[?25l|\b \bdone\r\n",
      "\u001b[?25h  Stored in directory: /content/.cache/pip/wheels/f8/fc/92/3bb08540cc5ac05df781005e686273adcd97af91ca2c032154\n",
      "  Running setup.py bdist_wheel for ujson ... \u001b[?25l-\b \b\\\b \b|\b \b/\b \b-\b \bdone\n",
      "\u001b[?25h  Stored in directory: /content/.cache/pip/wheels/9e/9b/d0/df92653bb5b2664c15d8ee5b99e3f2eb08a034444db8922b2f\n",
      "  Running setup.py bdist_wheel for cytoolz ... \u001b[?25l-\b \b\\\b \b|\b \b/\b \b-\b \b\\\b \b|\b \b/\b \bdone\n",
      "\u001b[?25h  Stored in directory: /content/.cache/pip/wheels/52/92/ed/661ecb7a67b42b21fc3dea140abb9ae9b8e94e72f0b3aff6c1\n",
      "  Running setup.py bdist_wheel for wrapt ... \u001b[?25l-\b \b\\\b \bdone\n",
      "\u001b[?25h  Stored in directory: /content/.cache/pip/wheels/56/e1/0f/f7ccf1ed8ceaabccc2a93ce0481f73e589814cbbc439291345\n",
      "  Running setup.py bdist_wheel for toolz ... \u001b[?25l-\b \b\\\b \bdone\n",
      "\u001b[?25h  Stored in directory: /content/.cache/pip/wheels/57/51/8a/433a9c0a2c65fc1b2a795ae036b932f3339a02e9ae88367659\n",
      "Successfully built spacy cymem ftfy html5lib msgpack-python murmurhash pathlib preshed regex thinc ujson cytoolz wrapt toolz\n",
      "Installing collected packages: cymem, html5lib, ftfy, msgpack-python, msgpack-numpy, murmurhash, pathlib, plac, preshed, regex, toolz, cytoolz, tqdm, wrapt, thinc, ujson, spacy\n",
      "  Found existing installation: html5lib 0.9999999\n",
      "    Uninstalling html5lib-0.9999999:\n",
      "      Successfully uninstalled html5lib-0.9999999\n",
      "Successfully installed cymem-1.31.2 cytoolz-0.8.2 ftfy-4.4.3 html5lib-1.0b8 msgpack-numpy-0.4.1 msgpack-python-0.5.4 murmurhash-0.28.0 pathlib-1.0.1 plac-0.9.6 preshed-1.0.0 regex-2017.4.5 spacy-2.0.9 thinc-6.10.2 toolz-0.9.0 tqdm-4.19.6 ujson-1.35 wrapt-1.10.11\n"
     ]
    }
   ],
   "source": [
    "!pip install -U spacy"
   ]
  },
  {
   "cell_type": "code",
   "execution_count": 0,
   "metadata": {
    "colab": {
     "autoexec": {
      "startup": false,
      "wait_interval": 0
     }
    },
    "colab_type": "code",
    "collapsed": true,
    "id": "bXqblDd2LKSo"
   },
   "outputs": [],
   "source": [
    "import spacy"
   ]
  },
  {
   "cell_type": "code",
   "execution_count": 49,
   "metadata": {
    "colab": {
     "autoexec": {
      "startup": false,
      "wait_interval": 0
     },
     "base_uri": "https://localhost:8080/",
     "height": 238,
     "output_extras": [
      {
       "item_id": 32
      },
      {
       "item_id": 46
      }
     ]
    },
    "colab_type": "code",
    "executionInfo": {
     "elapsed": 55821,
     "status": "ok",
     "timestamp": 1520859574060,
     "user": {
      "displayName": "RAUNAK ROBINKUMAR AGARWAL 1540239",
      "photoUrl": "https://lh3.googleusercontent.com/a/default-user=s128",
      "userId": "109577210923723476478"
     },
     "user_tz": -330
    },
    "id": "D5vwYD4iOXtW",
    "outputId": "393a92df-dd49-4b16-cbb7-0e4b6c2e8cf3"
   },
   "outputs": [
    {
     "name": "stdout",
     "output_type": "stream",
     "text": [
      "Collecting https://github.com/explosion/spacy-models/releases/download/en_core_web_lg-2.0.0/en_core_web_lg-2.0.0.tar.gz\n",
      "  Downloading https://github.com/explosion/spacy-models/releases/download/en_core_web_lg-2.0.0/en_core_web_lg-2.0.0.tar.gz (852.3MB)\n",
      "\u001b[K    91% |█████████████████████████████▏  | 777.3MB 50.2MB/s eta 0:00:02\u001b[K    100% |████████████████████████████████| 852.3MB 43.6MB/s \n",
      "\u001b[?25hInstalling collected packages: en-core-web-lg\n",
      "  Running setup.py install for en-core-web-lg ... \u001b[?25ldone\n",
      "\u001b[?25hSuccessfully installed en-core-web-lg-2.0.0\n",
      "\n",
      "\u001b[93m    Linking successful\u001b[0m\n",
      "    /usr/local/lib/python3.6/dist-packages/en_core_web_lg -->\n",
      "    /usr/local/lib/python3.6/dist-packages/spacy/data/en_core_web_lg\n",
      "\n",
      "    You can now load the model via spacy.load('en_core_web_lg')\n",
      "\n"
     ]
    }
   ],
   "source": [
    "!python -m spacy download en_core_web_lg"
   ]
  },
  {
   "cell_type": "code",
   "execution_count": 0,
   "metadata": {
    "colab": {
     "autoexec": {
      "startup": false,
      "wait_interval": 0
     }
    },
    "colab_type": "code",
    "collapsed": true,
    "id": "Nzz-THoPLMHr"
   },
   "outputs": [],
   "source": [
    "nlp = spacy.load('en_core_web_lg')"
   ]
  },
  {
   "cell_type": "code",
   "execution_count": 0,
   "metadata": {
    "colab": {
     "autoexec": {
      "startup": false,
      "wait_interval": 0
     }
    },
    "colab_type": "code",
    "collapsed": true,
    "id": "ysxubpgfOiGN"
   },
   "outputs": [],
   "source": [
    "from sklearn.svm import LinearSVC\n",
    "import pandas as pd\n",
    "import requests\n",
    "import io\n",
    "import sys\n",
    "import collections\n",
    "\n",
    "import numpy as np\n",
    "\n",
    "from sklearn.model_selection import StratifiedKFold, GridSearchCV\n",
    "from sklearn.pipeline import Pipeline\n",
    "from sklearn.feature_selection import SelectFromModel\n",
    "from sklearn.linear_model import LogisticRegression\n"
   ]
  },
  {
   "cell_type": "code",
   "execution_count": 0,
   "metadata": {
    "colab": {
     "autoexec": {
      "startup": false,
      "wait_interval": 0
     }
    },
    "colab_type": "code",
    "collapsed": true,
    "id": "GYP6fFqTTNNv"
   },
   "outputs": [],
   "source": [
    "def tokenizeText(sample):\n",
    "    tokens = nlp(str(sample))\n",
    "    return tokens.vector\n",
    "\n",
    "def append_vectors(row):\n",
    "    sample = row['text']\n",
    "    vector = tokenizeText(sample)\n",
    "    size = len(vector)\n",
    "    row['vector'] = vector\n",
    "    #row['size'] = size\n",
    "    return row\n",
    "\n",
    "  \n",
    "def featurize(dataset):\n",
    "    dataset = dataset.apply(append_vectors, axis = 1)\n",
    "    return dataset\n"
   ]
  },
  {
   "cell_type": "code",
   "execution_count": 0,
   "metadata": {
    "colab": {
     "autoexec": {
      "startup": false,
      "wait_interval": 0
     }
    },
    "colab_type": "code",
    "collapsed": true,
    "id": "eO8N6RodTXBp"
   },
   "outputs": [],
   "source": [
    "#url = \"https://github.com/raunak-agarwal/playground/raw/master/Hate%20Speech%20Preprocessed.csv\"\n",
    "url = \"https://github.com/raunak-agarwal/playground/raw/master/AskUbuntu.csv\"\n",
    "#train_url = \"https://raw.githubusercontent.com/raunak-agarwal/playground/master/travel%20train.csv\"\n",
    "#test_url = \"https://raw.githubusercontent.com/raunak-agarwal/playground/master/travel%20test.csv\"\n",
    "#train= pd.read_csv(io.StringIO(requests.get(train_url).content.decode('utf-8')))\n",
    "#test = pd.read_csv(io.StringIO(requests.get(test_url).content.decode('utf-8')))\n",
    "df = pd.read_csv(io.StringIO(requests.get(url).content.decode('utf-8')))"
   ]
  },
  {
   "cell_type": "code",
   "execution_count": 0,
   "metadata": {
    "colab": {
     "autoexec": {
      "startup": false,
      "wait_interval": 0
     }
    },
    "colab_type": "code",
    "collapsed": true,
    "id": "T2zcsmBoZZWk"
   },
   "outputs": [],
   "source": [
    "from sklearn.model_selection import train_test_split\n",
    "\n",
    "train, test = train_test_split(df, test_size = 0.2, random_state = 42)"
   ]
  },
  {
   "cell_type": "code",
   "execution_count": 0,
   "metadata": {
    "colab": {
     "autoexec": {
      "startup": false,
      "wait_interval": 0
     }
    },
    "colab_type": "code",
    "collapsed": true,
    "id": "z-LweRcWUUdg"
   },
   "outputs": [],
   "source": [
    "def append_svc_response(row):\n",
    "    utterance = row['vector']\n",
    "    ip = utterance.reshape(1,-1)\n",
    "    #ip = np.array(list(utterance),dtype = np.float)\n",
    "    #ip = pd.Series(utterance)\n",
    "    \n",
    "    response = clf.predict(ip)[0]\n",
    "    \n",
    "    try:\n",
    "        row['predicted'] = response\n",
    "        \"\"\"\n",
    "        if response[2]:\n",
    "            row['predicted_score'] = response[2]\n",
    "        else:\n",
    "            row['predicted_score'] = 0\n",
    "        \"\"\"\n",
    "        \n",
    "        \n",
    "        #print(\"q = {}, ans = {}\" .format(utterance,response))\n",
    "            \n",
    "    except Exception as e:\n",
    "        row['predicted'] = None\n",
    "        #row['predicted_score'] = 0\n",
    "        print(\"q = {}, ans = {}\" .format(utterance,None))\n",
    "    \n",
    "    return row\n"
   ]
  },
  {
   "cell_type": "code",
   "execution_count": 0,
   "metadata": {
    "colab": {
     "autoexec": {
      "startup": false,
      "wait_interval": 0
     }
    },
    "colab_type": "code",
    "collapsed": true,
    "id": "2Ou6816JUWlE"
   },
   "outputs": [],
   "source": [
    "def label_correct_responses(row):\n",
    "    expected = row['intent']\n",
    "    predicted = row['predicted']\n",
    "    \n",
    "    if expected == predicted:\n",
    "        row['Correct'] = 1\n",
    "    else:\n",
    "        row['Correct'] = 0\n",
    "    \n",
    "    return row\n"
   ]
  },
  {
   "cell_type": "code",
   "execution_count": 0,
   "metadata": {
    "colab": {
     "autoexec": {
      "startup": false,
      "wait_interval": 0
     }
    },
    "colab_type": "code",
    "collapsed": true,
    "id": "QgSN2V5mUXKe"
   },
   "outputs": [],
   "source": [
    "def svc_test(test, write = False):\n",
    "    test = test.apply(append_svc_response, axis = 1)\n",
    "    test = test.apply(label_correct_responses, axis = 1)\n",
    "    print(test['Correct'].mean())\n",
    "    \n",
    "    if write:\n",
    "        test.to_csv('Word2vec with SVC.csv')\n",
    "    \n",
    "    return test\n"
   ]
  },
  {
   "cell_type": "code",
   "execution_count": 0,
   "metadata": {
    "colab": {
     "autoexec": {
      "startup": false,
      "wait_interval": 0
     }
    },
    "colab_type": "code",
    "collapsed": true,
    "id": "5I52J-T5VzPt"
   },
   "outputs": [],
   "source": [
    "pipe = Pipeline([\n",
    "  ('feature_selection', SelectFromModel(LinearSVC(penalty=\"l1\",dual=False))),\n",
    "  ('classification', LinearSVC(penalty=\"l2\"))])"
   ]
  },
  {
   "cell_type": "code",
   "execution_count": 0,
   "metadata": {
    "colab": {
     "autoexec": {
      "startup": false,
      "wait_interval": 0
     }
    },
    "colab_type": "code",
    "collapsed": true,
    "id": "CuFWdAiBWFts"
   },
   "outputs": [],
   "source": [
    "training_data = featurize(train)\n",
    "X_train = training_data['vector']\n",
    "y_train = training_data['intent']\n",
    "\n",
    "training_data.head()\n",
    "\n",
    "X_train = np.array(list(X_train), dtype=np.float)\n"
   ]
  },
  {
   "cell_type": "code",
   "execution_count": 0,
   "metadata": {
    "colab": {
     "autoexec": {
      "startup": false,
      "wait_interval": 0
     }
    },
    "colab_type": "code",
    "collapsed": true,
    "id": "G2anbbY6ayWs"
   },
   "outputs": [],
   "source": [
    "clf = pipe.fit(X_train, y_train)"
   ]
  },
  {
   "cell_type": "code",
   "execution_count": 198,
   "metadata": {
    "colab": {
     "autoexec": {
      "startup": false,
      "wait_interval": 0
     },
     "base_uri": "https://localhost:8080/",
     "height": 1089,
     "output_extras": [
      {
       "item_id": 1
      },
      {
       "item_id": 2
      }
     ]
    },
    "colab_type": "code",
    "executionInfo": {
     "elapsed": 18822,
     "status": "ok",
     "timestamp": 1520865811212,
     "user": {
      "displayName": "RAUNAK ROBINKUMAR AGARWAL 1540239",
      "photoUrl": "https://lh3.googleusercontent.com/a/default-user=s128",
      "userId": "109577210923723476478"
     },
     "user_tz": -330
    },
    "id": "oJkNaN9bZNwL",
    "outputId": "1ac09d91-0510-456a-bcdf-1819507e3ee4"
   },
   "outputs": [
    {
     "name": "stdout",
     "output_type": "stream",
     "text": [
      "0.9090909090909091\n"
     ]
    },
    {
     "data": {
      "text/html": [
       "<div>\n",
       "<style scoped>\n",
       "    .dataframe tbody tr th:only-of-type {\n",
       "        vertical-align: middle;\n",
       "    }\n",
       "\n",
       "    .dataframe tbody tr th {\n",
       "        vertical-align: top;\n",
       "    }\n",
       "\n",
       "    .dataframe thead th {\n",
       "        text-align: right;\n",
       "    }\n",
       "</style>\n",
       "<table border=\"1\" class=\"dataframe\">\n",
       "  <thead>\n",
       "    <tr style=\"text-align: right;\">\n",
       "      <th></th>\n",
       "      <th>intent</th>\n",
       "      <th>text</th>\n",
       "      <th>vector</th>\n",
       "      <th>predicted</th>\n",
       "      <th>Correct</th>\n",
       "    </tr>\n",
       "  </thead>\n",
       "  <tbody>\n",
       "    <tr>\n",
       "      <th>158</th>\n",
       "      <td>Software Recommendation</td>\n",
       "      <td>What tools do you use to monitor a web server?</td>\n",
       "      <td>[-0.102996536, 0.042770088, -0.20591472, 0.030...</td>\n",
       "      <td>Software Recommendation</td>\n",
       "      <td>1</td>\n",
       "    </tr>\n",
       "    <tr>\n",
       "      <th>109</th>\n",
       "      <td>Software Recommendation</td>\n",
       "      <td>Software to read a QR code?</td>\n",
       "      <td>[-0.024565283, 0.15144631, -0.038365286, 0.079...</td>\n",
       "      <td>Software Recommendation</td>\n",
       "      <td>1</td>\n",
       "    </tr>\n",
       "    <tr>\n",
       "      <th>131</th>\n",
       "      <td>Software Recommendation</td>\n",
       "      <td>A light alternative to gnome-system-monitor?</td>\n",
       "      <td>[-0.08676795, 0.22116382, -0.070646, 0.172405,...</td>\n",
       "      <td>Software Recommendation</td>\n",
       "      <td>1</td>\n",
       "    </tr>\n",
       "    <tr>\n",
       "      <th>55</th>\n",
       "      <td>Setup Printer</td>\n",
       "      <td>How to install a Lexmark z600 series printer?</td>\n",
       "      <td>[-0.025484003, 0.14512199, -0.103778794, -0.11...</td>\n",
       "      <td>Setup Printer</td>\n",
       "      <td>1</td>\n",
       "    </tr>\n",
       "    <tr>\n",
       "      <th>94</th>\n",
       "      <td>Shutdown Computer</td>\n",
       "      <td>What is the proper terminal-way to shutdown?</td>\n",
       "      <td>[0.08270551, 0.19798599, -0.11068557, 0.153161...</td>\n",
       "      <td>Shutdown Computer</td>\n",
       "      <td>1</td>\n",
       "    </tr>\n",
       "    <tr>\n",
       "      <th>29</th>\n",
       "      <td>Make Update</td>\n",
       "      <td>How to upgrade from 16.04 LTS to 16.04.1 LTS</td>\n",
       "      <td>[-0.027807554, 0.12545055, 0.09514444, -0.0737...</td>\n",
       "      <td>Make Update</td>\n",
       "      <td>1</td>\n",
       "    </tr>\n",
       "    <tr>\n",
       "      <th>101</th>\n",
       "      <td>Shutdown Computer</td>\n",
       "      <td>Shutdown after a certain time</td>\n",
       "      <td>[0.108223595, 0.189149, -0.175717, 0.1868414, ...</td>\n",
       "      <td>Shutdown Computer</td>\n",
       "      <td>1</td>\n",
       "    </tr>\n",
       "    <tr>\n",
       "      <th>51</th>\n",
       "      <td>None</td>\n",
       "      <td>How do I show grub when resuming from suspend?</td>\n",
       "      <td>[0.0447685, 0.1928994, -0.1380962, 0.015036285...</td>\n",
       "      <td>Shutdown Computer</td>\n",
       "      <td>0</td>\n",
       "    </tr>\n",
       "    <tr>\n",
       "      <th>100</th>\n",
       "      <td>Shutdown Computer</td>\n",
       "      <td>Are there any Keyboard Shortcuts to Shutdown?</td>\n",
       "      <td>[0.035573877, 0.116356, -0.109168254, 0.075150...</td>\n",
       "      <td>Shutdown Computer</td>\n",
       "      <td>1</td>\n",
       "    </tr>\n",
       "    <tr>\n",
       "      <th>144</th>\n",
       "      <td>Software Recommendation</td>\n",
       "      <td>In Unity how do I see the details of a given l...</td>\n",
       "      <td>[-0.008066613, 0.111372545, -0.13577862, -0.06...</td>\n",
       "      <td>Software Recommendation</td>\n",
       "      <td>1</td>\n",
       "    </tr>\n",
       "    <tr>\n",
       "      <th>19</th>\n",
       "      <td>Make Update</td>\n",
       "      <td>update-manager: upgrade to 15.04 rather than 1...</td>\n",
       "      <td>[-0.1717347, 0.0657665, 0.0012447059, -0.04903...</td>\n",
       "      <td>Make Update</td>\n",
       "      <td>1</td>\n",
       "    </tr>\n",
       "    <tr>\n",
       "      <th>84</th>\n",
       "      <td>Shutdown Computer</td>\n",
       "      <td>How do I shut down without the confirmation pr...</td>\n",
       "      <td>[-0.03727333, 0.12716399, -0.26403093, -0.0335...</td>\n",
       "      <td>Shutdown Computer</td>\n",
       "      <td>1</td>\n",
       "    </tr>\n",
       "    <tr>\n",
       "      <th>15</th>\n",
       "      <td>Make Update</td>\n",
       "      <td>Problems upgrading Ubuntu 12.10 to 13.04</td>\n",
       "      <td>[-0.028313493, 0.07700173, 0.22808866, -0.1718...</td>\n",
       "      <td>Make Update</td>\n",
       "      <td>1</td>\n",
       "    </tr>\n",
       "    <tr>\n",
       "      <th>66</th>\n",
       "      <td>Setup Printer</td>\n",
       "      <td>How to install Canon LBP330 in Lts 16.04</td>\n",
       "      <td>[-0.016156964, 0.080295, 0.08567176, -0.169402...</td>\n",
       "      <td>Setup Printer</td>\n",
       "      <td>1</td>\n",
       "    </tr>\n",
       "    <tr>\n",
       "      <th>24</th>\n",
       "      <td>Make Update</td>\n",
       "      <td>Upgrading from 10.10 to 11.04 how much space i...</td>\n",
       "      <td>[0.08629174, 0.14283109, 0.038748935, -0.06020...</td>\n",
       "      <td>Make Update</td>\n",
       "      <td>1</td>\n",
       "    </tr>\n",
       "    <tr>\n",
       "      <th>30</th>\n",
       "      <td>Make Update</td>\n",
       "      <td>Upgrading from 10.04 to 11.10</td>\n",
       "      <td>[0.13994762, -0.034411, 0.1163104, -0.00902800...</td>\n",
       "      <td>Make Update</td>\n",
       "      <td>1</td>\n",
       "    </tr>\n",
       "    <tr>\n",
       "      <th>143</th>\n",
       "      <td>Software Recommendation</td>\n",
       "      <td>Removing Recently used items in 12.04</td>\n",
       "      <td>[0.02616817, 0.066313, 0.04002517, 0.050242502...</td>\n",
       "      <td>Make Update</td>\n",
       "      <td>0</td>\n",
       "    </tr>\n",
       "    <tr>\n",
       "      <th>104</th>\n",
       "      <td>Shutdown Computer</td>\n",
       "      <td>What graphical utility can I use for Ubuntu au...</td>\n",
       "      <td>[-0.07642791, 0.18048966, -0.072016284, -0.108...</td>\n",
       "      <td>Software Recommendation</td>\n",
       "      <td>0</td>\n",
       "    </tr>\n",
       "    <tr>\n",
       "      <th>98</th>\n",
       "      <td>Shutdown Computer</td>\n",
       "      <td>How can one shutdown a PC using the keyboard?</td>\n",
       "      <td>[-0.060953297, 0.126184, -0.13984379, 0.152188...</td>\n",
       "      <td>Shutdown Computer</td>\n",
       "      <td>1</td>\n",
       "    </tr>\n",
       "    <tr>\n",
       "      <th>16</th>\n",
       "      <td>Make Update</td>\n",
       "      <td>Upgrade from 12.04 to 12.10 without losing files?</td>\n",
       "      <td>[-0.03645637, 0.008428555, 0.02299967, 0.04279...</td>\n",
       "      <td>Make Update</td>\n",
       "      <td>1</td>\n",
       "    </tr>\n",
       "    <tr>\n",
       "      <th>75</th>\n",
       "      <td>Setup Printer</td>\n",
       "      <td>How do I install drivers for a Konica Minolta ...</td>\n",
       "      <td>[-0.005248275, 0.20086809, -0.19024877, -0.170...</td>\n",
       "      <td>Setup Printer</td>\n",
       "      <td>1</td>\n",
       "    </tr>\n",
       "    <tr>\n",
       "      <th>18</th>\n",
       "      <td>Make Update</td>\n",
       "      <td>Do I need to reinstall everything to upgrade f...</td>\n",
       "      <td>[0.076638296, 0.06300246, -0.06924579, -0.0363...</td>\n",
       "      <td>Make Update</td>\n",
       "      <td>1</td>\n",
       "    </tr>\n",
       "    <tr>\n",
       "      <th>12</th>\n",
       "      <td>Make Update</td>\n",
       "      <td>How do I update Xubuntu 11.10 to Xubuntu 12.04...</td>\n",
       "      <td>[-0.04594855, 0.23973966, 0.061220907, -0.1355...</td>\n",
       "      <td>Make Update</td>\n",
       "      <td>1</td>\n",
       "    </tr>\n",
       "    <tr>\n",
       "      <th>9</th>\n",
       "      <td>Make Update</td>\n",
       "      <td>How to partially upgrade Ubuntu 11.10 from Ubu...</td>\n",
       "      <td>[-0.012568599, 0.03642078, 0.130003, 0.0325864...</td>\n",
       "      <td>Make Update</td>\n",
       "      <td>1</td>\n",
       "    </tr>\n",
       "    <tr>\n",
       "      <th>31</th>\n",
       "      <td>Make Update</td>\n",
       "      <td>How can i upgrade to Ubuntu 14.04 final from 1...</td>\n",
       "      <td>[-0.13637695, 0.06858494, -0.0146923065, -0.04...</td>\n",
       "      <td>Make Update</td>\n",
       "      <td>1</td>\n",
       "    </tr>\n",
       "    <tr>\n",
       "      <th>153</th>\n",
       "      <td>Software Recommendation</td>\n",
       "      <td>What IRC clients are available?</td>\n",
       "      <td>[0.014389337, 0.096224, -0.23600298, -0.200038...</td>\n",
       "      <td>Software Recommendation</td>\n",
       "      <td>1</td>\n",
       "    </tr>\n",
       "    <tr>\n",
       "      <th>97</th>\n",
       "      <td>Shutdown Computer</td>\n",
       "      <td>How to shutdown the computer after Xsession ends?</td>\n",
       "      <td>[0.052756224, 0.16278666, -0.080048665, 0.0688...</td>\n",
       "      <td>Shutdown Computer</td>\n",
       "      <td>1</td>\n",
       "    </tr>\n",
       "    <tr>\n",
       "      <th>56</th>\n",
       "      <td>Setup Printer</td>\n",
       "      <td>Cannot setup HP All in one DJ3630</td>\n",
       "      <td>[-0.010309421, 0.215915, -0.057887502, -0.1319...</td>\n",
       "      <td>Setup Printer</td>\n",
       "      <td>1</td>\n",
       "    </tr>\n",
       "    <tr>\n",
       "      <th>133</th>\n",
       "      <td>Software Recommendation</td>\n",
       "      <td>Is there a project management software for Ubu...</td>\n",
       "      <td>[-0.147608, 0.02128761, 0.04833186, -0.1741214...</td>\n",
       "      <td>Software Recommendation</td>\n",
       "      <td>1</td>\n",
       "    </tr>\n",
       "    <tr>\n",
       "      <th>105</th>\n",
       "      <td>Software Recommendation</td>\n",
       "      <td>What software can I use to view epub documents?</td>\n",
       "      <td>[-0.0630036, -0.013503896, -0.15128219, -0.018...</td>\n",
       "      <td>Software Recommendation</td>\n",
       "      <td>1</td>\n",
       "    </tr>\n",
       "    <tr>\n",
       "      <th>138</th>\n",
       "      <td>Software Recommendation</td>\n",
       "      <td>Are there any hardware diagnostic tools?</td>\n",
       "      <td>[-0.17371842, 0.14284529, -0.006105711, -0.199...</td>\n",
       "      <td>Software Recommendation</td>\n",
       "      <td>1</td>\n",
       "    </tr>\n",
       "    <tr>\n",
       "      <th>78</th>\n",
       "      <td>Shutdown Computer</td>\n",
       "      <td>Keyboard shortcut to shutdown?</td>\n",
       "      <td>[0.20055361, 0.039240204, 0.045612596, 0.26755...</td>\n",
       "      <td>Shutdown Computer</td>\n",
       "      <td>1</td>\n",
       "    </tr>\n",
       "    <tr>\n",
       "      <th>60</th>\n",
       "      <td>Setup Printer</td>\n",
       "      <td>Installing Epson XP-424 wireless printer</td>\n",
       "      <td>[0.016959593, 0.133928, 0.092788, -0.312644, 0...</td>\n",
       "      <td>Setup Printer</td>\n",
       "      <td>1</td>\n",
       "    </tr>\n",
       "  </tbody>\n",
       "</table>\n",
       "</div>"
      ],
      "text/plain": [
       "                      intent  \\\n",
       "158  Software Recommendation   \n",
       "109  Software Recommendation   \n",
       "131  Software Recommendation   \n",
       "55             Setup Printer   \n",
       "94         Shutdown Computer   \n",
       "29               Make Update   \n",
       "101        Shutdown Computer   \n",
       "51                      None   \n",
       "100        Shutdown Computer   \n",
       "144  Software Recommendation   \n",
       "19               Make Update   \n",
       "84         Shutdown Computer   \n",
       "15               Make Update   \n",
       "66             Setup Printer   \n",
       "24               Make Update   \n",
       "30               Make Update   \n",
       "143  Software Recommendation   \n",
       "104        Shutdown Computer   \n",
       "98         Shutdown Computer   \n",
       "16               Make Update   \n",
       "75             Setup Printer   \n",
       "18               Make Update   \n",
       "12               Make Update   \n",
       "9                Make Update   \n",
       "31               Make Update   \n",
       "153  Software Recommendation   \n",
       "97         Shutdown Computer   \n",
       "56             Setup Printer   \n",
       "133  Software Recommendation   \n",
       "105  Software Recommendation   \n",
       "138  Software Recommendation   \n",
       "78         Shutdown Computer   \n",
       "60             Setup Printer   \n",
       "\n",
       "                                                  text  \\\n",
       "158     What tools do you use to monitor a web server?   \n",
       "109                        Software to read a QR code?   \n",
       "131       A light alternative to gnome-system-monitor?   \n",
       "55       How to install a Lexmark z600 series printer?   \n",
       "94        What is the proper terminal-way to shutdown?   \n",
       "29        How to upgrade from 16.04 LTS to 16.04.1 LTS   \n",
       "101                      Shutdown after a certain time   \n",
       "51      How do I show grub when resuming from suspend?   \n",
       "100      Are there any Keyboard Shortcuts to Shutdown?   \n",
       "144  In Unity how do I see the details of a given l...   \n",
       "19   update-manager: upgrade to 15.04 rather than 1...   \n",
       "84   How do I shut down without the confirmation pr...   \n",
       "15            Problems upgrading Ubuntu 12.10 to 13.04   \n",
       "66            How to install Canon LBP330 in Lts 16.04   \n",
       "24   Upgrading from 10.10 to 11.04 how much space i...   \n",
       "30                       Upgrading from 10.04 to 11.10   \n",
       "143              Removing Recently used items in 12.04   \n",
       "104  What graphical utility can I use for Ubuntu au...   \n",
       "98       How can one shutdown a PC using the keyboard?   \n",
       "16   Upgrade from 12.04 to 12.10 without losing files?   \n",
       "75   How do I install drivers for a Konica Minolta ...   \n",
       "18   Do I need to reinstall everything to upgrade f...   \n",
       "12   How do I update Xubuntu 11.10 to Xubuntu 12.04...   \n",
       "9    How to partially upgrade Ubuntu 11.10 from Ubu...   \n",
       "31   How can i upgrade to Ubuntu 14.04 final from 1...   \n",
       "153                    What IRC clients are available?   \n",
       "97   How to shutdown the computer after Xsession ends?   \n",
       "56                   Cannot setup HP All in one DJ3630   \n",
       "133  Is there a project management software for Ubu...   \n",
       "105    What software can I use to view epub documents?   \n",
       "138           Are there any hardware diagnostic tools?   \n",
       "78                      Keyboard shortcut to shutdown?   \n",
       "60            Installing Epson XP-424 wireless printer   \n",
       "\n",
       "                                                vector  \\\n",
       "158  [-0.102996536, 0.042770088, -0.20591472, 0.030...   \n",
       "109  [-0.024565283, 0.15144631, -0.038365286, 0.079...   \n",
       "131  [-0.08676795, 0.22116382, -0.070646, 0.172405,...   \n",
       "55   [-0.025484003, 0.14512199, -0.103778794, -0.11...   \n",
       "94   [0.08270551, 0.19798599, -0.11068557, 0.153161...   \n",
       "29   [-0.027807554, 0.12545055, 0.09514444, -0.0737...   \n",
       "101  [0.108223595, 0.189149, -0.175717, 0.1868414, ...   \n",
       "51   [0.0447685, 0.1928994, -0.1380962, 0.015036285...   \n",
       "100  [0.035573877, 0.116356, -0.109168254, 0.075150...   \n",
       "144  [-0.008066613, 0.111372545, -0.13577862, -0.06...   \n",
       "19   [-0.1717347, 0.0657665, 0.0012447059, -0.04903...   \n",
       "84   [-0.03727333, 0.12716399, -0.26403093, -0.0335...   \n",
       "15   [-0.028313493, 0.07700173, 0.22808866, -0.1718...   \n",
       "66   [-0.016156964, 0.080295, 0.08567176, -0.169402...   \n",
       "24   [0.08629174, 0.14283109, 0.038748935, -0.06020...   \n",
       "30   [0.13994762, -0.034411, 0.1163104, -0.00902800...   \n",
       "143  [0.02616817, 0.066313, 0.04002517, 0.050242502...   \n",
       "104  [-0.07642791, 0.18048966, -0.072016284, -0.108...   \n",
       "98   [-0.060953297, 0.126184, -0.13984379, 0.152188...   \n",
       "16   [-0.03645637, 0.008428555, 0.02299967, 0.04279...   \n",
       "75   [-0.005248275, 0.20086809, -0.19024877, -0.170...   \n",
       "18   [0.076638296, 0.06300246, -0.06924579, -0.0363...   \n",
       "12   [-0.04594855, 0.23973966, 0.061220907, -0.1355...   \n",
       "9    [-0.012568599, 0.03642078, 0.130003, 0.0325864...   \n",
       "31   [-0.13637695, 0.06858494, -0.0146923065, -0.04...   \n",
       "153  [0.014389337, 0.096224, -0.23600298, -0.200038...   \n",
       "97   [0.052756224, 0.16278666, -0.080048665, 0.0688...   \n",
       "56   [-0.010309421, 0.215915, -0.057887502, -0.1319...   \n",
       "133  [-0.147608, 0.02128761, 0.04833186, -0.1741214...   \n",
       "105  [-0.0630036, -0.013503896, -0.15128219, -0.018...   \n",
       "138  [-0.17371842, 0.14284529, -0.006105711, -0.199...   \n",
       "78   [0.20055361, 0.039240204, 0.045612596, 0.26755...   \n",
       "60   [0.016959593, 0.133928, 0.092788, -0.312644, 0...   \n",
       "\n",
       "                   predicted  Correct  \n",
       "158  Software Recommendation        1  \n",
       "109  Software Recommendation        1  \n",
       "131  Software Recommendation        1  \n",
       "55             Setup Printer        1  \n",
       "94         Shutdown Computer        1  \n",
       "29               Make Update        1  \n",
       "101        Shutdown Computer        1  \n",
       "51         Shutdown Computer        0  \n",
       "100        Shutdown Computer        1  \n",
       "144  Software Recommendation        1  \n",
       "19               Make Update        1  \n",
       "84         Shutdown Computer        1  \n",
       "15               Make Update        1  \n",
       "66             Setup Printer        1  \n",
       "24               Make Update        1  \n",
       "30               Make Update        1  \n",
       "143              Make Update        0  \n",
       "104  Software Recommendation        0  \n",
       "98         Shutdown Computer        1  \n",
       "16               Make Update        1  \n",
       "75             Setup Printer        1  \n",
       "18               Make Update        1  \n",
       "12               Make Update        1  \n",
       "9                Make Update        1  \n",
       "31               Make Update        1  \n",
       "153  Software Recommendation        1  \n",
       "97         Shutdown Computer        1  \n",
       "56             Setup Printer        1  \n",
       "133  Software Recommendation        1  \n",
       "105  Software Recommendation        1  \n",
       "138  Software Recommendation        1  \n",
       "78         Shutdown Computer        1  \n",
       "60             Setup Printer        1  "
      ]
     },
     "execution_count": 198,
     "metadata": {
      "tags": []
     },
     "output_type": "execute_result"
    }
   ],
   "source": [
    "df = svc_test(featurize(test))\n",
    "df\n",
    "# train\n",
    "# classifier.score(\"Recommendation for regex editor\")"
   ]
  },
  {
   "cell_type": "code",
   "execution_count": 0,
   "metadata": {
    "colab": {
     "autoexec": {
      "startup": false,
      "wait_interval": 0
     }
    },
    "colab_type": "code",
    "collapsed": true,
    "id": "8Wv0gz_67ouw"
   },
   "outputs": [],
   "source": [
    "import pandas as pd\n",
    "import numpy as np \n",
    "\n",
    "def predict(utterance):\n",
    "    row = pd.DataFrame({'utterance':[utterance]})\n",
    "    row = featurize(row)\n",
    "    test_input = np.array(list(row['vector']), dtype=np.float)\n",
    "    response = clf.predict(test_input)[0]\n",
    "    return response"
   ]
  },
  {
   "cell_type": "code",
   "execution_count": 238,
   "metadata": {
    "colab": {
     "autoexec": {
      "startup": false,
      "wait_interval": 0
     },
     "base_uri": "https://localhost:8080/",
     "height": 275,
     "output_extras": [
      {
       "item_id": 1
      },
      {
       "item_id": 2
      }
     ]
    },
    "colab_type": "code",
    "executionInfo": {
     "elapsed": 876,
     "status": "ok",
     "timestamp": 1520869151048,
     "user": {
      "displayName": "RAUNAK ROBINKUMAR AGARWAL 1540239",
      "photoUrl": "https://lh3.googleusercontent.com/a/default-user=s128",
      "userId": "109577210923723476478"
     },
     "user_tz": -330
    },
    "id": "mIjTnEOrV-L1",
    "outputId": "2b6b397d-79b1-49e7-db3f-79f61597329c"
   },
   "outputs": [
    {
     "name": "stdout",
     "output_type": "stream",
     "text": [
      "Macro (0.7345959595959596, 0.7527777777777778, 0.7432539682539683, None)\n",
      "Weighted (0.8815426997245179, 0.9090909090909091, 0.8946608946608947, None)\n",
      "                         precision    recall  f1-score   support\n",
      "\n",
      "            Make Update       0.91      1.00      0.95        10\n",
      "                   None       0.00      0.00      0.00         1\n",
      "          Setup Printer       1.00      1.00      1.00         5\n",
      "      Shutdown Computer       0.88      0.88      0.88         8\n",
      "Software Recommendation       0.89      0.89      0.89         9\n",
      "\n",
      "            avg / total       0.88      0.91      0.89        33\n",
      "\n"
     ]
    },
    {
     "name": "stderr",
     "output_type": "stream",
     "text": [
      "/usr/local/lib/python3.6/dist-packages/sklearn/metrics/classification.py:1135: UndefinedMetricWarning: Precision and F-score are ill-defined and being set to 0.0 in labels with no predicted samples.\n",
      "  'precision', 'predicted', average, warn_for)\n"
     ]
    }
   ],
   "source": [
    "from sklearn.metrics import f1_score,precision_recall_fscore_support, classification_report\n",
    "\n",
    "y_true = df['intent']\n",
    "y_pred = df['predicted']\n",
    "\n",
    "print(\"Macro\",precision_recall_fscore_support(y_true, y_pred, average='macro'))\n",
    "print(\"Weighted\",precision_recall_fscore_support(y_true, y_pred, average='weighted'))\n",
    "\n",
    "report = classification_report( y_true, y_pred )\n",
    "\n",
    "print(report)\n",
    "\n"
   ]
  },
  {
   "cell_type": "code",
   "execution_count": 0,
   "metadata": {
    "colab": {
     "autoexec": {
      "startup": false,
      "wait_interval": 0
     }
    },
    "colab_type": "code",
    "collapsed": true,
    "id": "axkPyRexX6Qi"
   },
   "outputs": [],
   "source": [
    "def parse_classification_report(clfreport):\n",
    "\n",
    "    lines = clfreport.split('\\n')\n",
    "    lines = list(filter(lambda l: not len(l.strip()) == 0, lines))\n",
    "\n",
    "    header = lines[0]\n",
    "    cls_lines = lines[1:-1]\n",
    "    avg_line = lines[-1]\n",
    "\n",
    "    assert header.split() == ['precision', 'recall', 'f1-score', 'support']\n",
    "    assert avg_line.split()[0] == 'avg'\n",
    "\n",
    "\n",
    "    cls_field_width = len(header) - len(header.lstrip())\n",
    "\n",
    "    def parse_line(l):\n",
    "        cls_name = l[:cls_field_width].strip()\n",
    "        precision, recall, fscore, support = l[cls_field_width:].split()\n",
    "        precision = float(precision)\n",
    "        recall = float(recall)\n",
    "        fscore = float(fscore)\n",
    "        support = int(support)\n",
    "        return (cls_name, precision, recall, fscore, support)\n",
    "\n",
    "    data = collections.OrderedDict()\n",
    "    for l in cls_lines:\n",
    "        ret = parse_line(l)\n",
    "        cls_name = ret[0]\n",
    "        scores = ret[1:]\n",
    "        data[cls_name] = scores\n",
    "\n",
    "    data['avg'] = parse_line(avg_line)[1:]\n",
    "\n",
    "    return data\n",
    "\n",
    "  \n",
    "def report_to_latex_table(data):\n",
    "    out = \"\"\n",
    "    out += \"\\\\begin{tabular}{c | c c c c}\\n\"\n",
    "    out += \"Class & Precision & Recall & F-score & Support\\\\\\\\\\n\"\n",
    "    out += \"\\hline\\n\"\n",
    "    out += \"\\hline\\\\\\\\\\n\"\n",
    "    for cls, scores in data.items():\n",
    "        out += cls + \" & \" + \" & \".join([str(s) for s in scores])\n",
    "        out += \"\\\\\\\\\\n\"\n",
    "    out += \"\\\\end{tabular}\"\n",
    "    return out\n"
   ]
  },
  {
   "cell_type": "code",
   "execution_count": 200,
   "metadata": {
    "colab": {
     "autoexec": {
      "startup": false,
      "wait_interval": 0
     },
     "base_uri": "https://localhost:8080/",
     "height": 204,
     "output_extras": [
      {
       "item_id": 1
      }
     ]
    },
    "colab_type": "code",
    "executionInfo": {
     "elapsed": 681,
     "status": "ok",
     "timestamp": 1520865824309,
     "user": {
      "displayName": "RAUNAK ROBINKUMAR AGARWAL 1540239",
      "photoUrl": "https://lh3.googleusercontent.com/a/default-user=s128",
      "userId": "109577210923723476478"
     },
     "user_tz": -330
    },
    "id": "qD9oPQ9TX7C3",
    "outputId": "9d1f1630-816d-4e8f-d8ee-ff0c951ae0eb"
   },
   "outputs": [
    {
     "name": "stdout",
     "output_type": "stream",
     "text": [
      "\\begin{tabular}{c | c c c c}\n",
      "Class & Precision & Recall & F-score & Support\\\\\n",
      "\\hline\n",
      "\\hline\\\\\n",
      "Make Update & 0.91 & 1.0 & 0.95 & 10\\\\\n",
      "None & 0.0 & 0.0 & 0.0 & 1\\\\\n",
      "Setup Printer & 1.0 & 1.0 & 1.0 & 5\\\\\n",
      "Shutdown Computer & 0.88 & 0.88 & 0.88 & 8\\\\\n",
      "Software Recommendation & 0.89 & 0.89 & 0.89 & 9\\\\\n",
      "avg & 0.88 & 0.91 & 0.89 & 33\\\\\n",
      "\\end{tabular}\n"
     ]
    }
   ],
   "source": [
    "data = parse_classification_report(report)\n",
    "print (report_to_latex_table(data))"
   ]
  },
  {
   "cell_type": "code",
   "execution_count": 0,
   "metadata": {
    "colab": {
     "autoexec": {
      "startup": false,
      "wait_interval": 0
     }
    },
    "colab_type": "code",
    "collapsed": true,
    "id": "Yrbf8WZzYiPq"
   },
   "outputs": [],
   "source": [
    "from sklearn.metrics import confusion_matrix\n",
    "import numpy as np\n",
    "\n",
    "import matplotlib.pyplot as plt\n",
    "\n",
    "import seaborn\n",
    "%matplotlib inline\n"
   ]
  },
  {
   "cell_type": "code",
   "execution_count": 201,
   "metadata": {
    "colab": {
     "autoexec": {
      "startup": false,
      "wait_interval": 0
     },
     "base_uri": "https://localhost:8080/",
     "height": 472,
     "output_extras": [
      {
       "item_id": 1
      }
     ]
    },
    "colab_type": "code",
    "executionInfo": {
     "elapsed": 1130,
     "status": "ok",
     "timestamp": 1520865848729,
     "user": {
      "displayName": "RAUNAK ROBINKUMAR AGARWAL 1540239",
      "photoUrl": "https://lh3.googleusercontent.com/a/default-user=s128",
      "userId": "109577210923723476478"
     },
     "user_tz": -330
    },
    "id": "0rayAe9RYkMu",
    "outputId": "9b192407-331c-4a00-e5c2-3051d3372206"
   },
   "outputs": [
    {
     "data": {
      "image/png": "[encoded data removed]",
      "text/plain": [
       "<matplotlib.figure.Figure at 0x7f618cb0f550>"
      ]
     },
     "metadata": {
      "tags": []
     },
     "output_type": "display_data"
    }
   ],
   "source": [
    "cm = confusion_matrix(y_true,y_pred)\n",
    "\n",
    "matrix_proportions = np.zeros((5,5))\n",
    "for i in range(0,5):\n",
    "    matrix_proportions[i,:] = cm[i,:]/float(cm[i,:].sum())\n",
    "#names=['hate speech','offensive','neither']\n",
    "#names=['insult','non-insult','neither']\n",
    "#names = ['ChangePassword', 'DeleteAccount', 'ExportData', 'FilterSpam', 'FindAlternative', 'SyncAccounts', 'None']\n",
    "#names = ['gotoPlace','placeAccommodation','placeExplore','placeInformation','placeLogistics']\n",
    "names = ['Make Update','None','Setup Printer','Shutdown Computer','Software Recommendation']\n",
    "#names = ['P','N','O']\n",
    "\n",
    "confusion_df = pd.DataFrame(matrix_proportions, index=names,columns=names)\n",
    "plt.figure(figsize=(5,5))\n",
    "seaborn.heatmap(confusion_df,annot=True,annot_kws={\"size\": 12},cmap='gist_gray_r',cbar=False, square=True,fmt='.2f')\n",
    "plt.ylabel(r'True categories',fontsize=14)\n",
    "plt.xlabel(r'Predicted categories',fontsize=14)\n",
    "plt.tick_params(labelsize=12)\n"
   ]
  },
  {
   "cell_type": "code",
   "execution_count": 0,
   "metadata": {
    "colab": {
     "autoexec": {
      "startup": false,
      "wait_interval": 0
     }
    },
    "colab_type": "code",
    "collapsed": true,
    "id": "dDrnhHSKoVK-"
   },
   "outputs": [],
   "source": [
    "nlp.to_disk('spacy lg.bin')"
   ]
  },
  {
   "cell_type": "code",
   "execution_count": 191,
   "metadata": {
    "colab": {
     "autoexec": {
      "startup": false,
      "wait_interval": 0
     },
     "base_uri": "https://localhost:8080/",
     "height": 34,
     "output_extras": [
      {
       "item_id": 1
      }
     ]
    },
    "colab_type": "code",
    "executionInfo": {
     "elapsed": 1385,
     "status": "ok",
     "timestamp": 1520865457023,
     "user": {
      "displayName": "RAUNAK ROBINKUMAR AGARWAL 1540239",
      "photoUrl": "https://lh3.googleusercontent.com/a/default-user=s128",
      "userId": "109577210923723476478"
     },
     "user_tz": -330
    },
    "id": "d9ULsfinonSz",
    "outputId": "15886adc-e168-42be-acb3-59091b880385"
   },
   "outputs": [
    {
     "name": "stdout",
     "output_type": "stream",
     "text": [
      "./spacy lg.bin/vocab/vectors\r\n"
     ]
    }
   ],
   "source": [
    "!ls ./spacy\\ lg.bin/vocab/vectors"
   ]
  },
  {
   "cell_type": "code",
   "execution_count": 0,
   "metadata": {
    "colab": {
     "autoexec": {
      "startup": false,
      "wait_interval": 0
     }
    },
    "colab_type": "code",
    "collapsed": true,
    "id": "R0b9MxIFoxvl"
   },
   "outputs": [],
   "source": [
    "from lime.lime_text import LimeTextExplainer\n",
    "explainer = LimeTextExplainer(class_names=names)\n"
   ]
  },
  {
   "cell_type": "code",
   "execution_count": 0,
   "metadata": {
    "colab": {
     "autoexec": {
      "startup": false,
      "wait_interval": 0
     }
    },
    "colab_type": "code",
    "collapsed": true,
    "id": "v4SIvVI4skM9"
   },
   "outputs": [],
   "source": [
    "from sklearn.base import BaseEstimator, TransformerMixin\n",
    "\n",
    "class Word2Vectorizer(TransformerMixin):\n",
    "    \"\"\"\n",
    "    Wrapper class for running word2vec into pipelines and FeatureUnions\n",
    "    \"\"\"\n",
    "    def __init__(self,word2vec):\n",
    "        self.word2vec=word2vec\n",
    "\n",
    "    def fit(self,x, y=None):\n",
    "        return self\n",
    "\n",
    "    def transform(self, X):\n",
    "        return self.word2vec(X)\n",
    "\n",
    "      \n",
    "#wv = Word2Vectorizer(tokenizeText)\n",
    "#wv.fit_transform(\"hi how are you doing\")"
   ]
  },
  {
   "cell_type": "code",
   "execution_count": 0,
   "metadata": {
    "colab": {
     "autoexec": {
      "startup": false,
      "wait_interval": 0
     }
    },
    "colab_type": "code",
    "collapsed": true,
    "id": "qEzRDwweszrR"
   },
   "outputs": [],
   "source": [
    "def explain_one_instance(instance, class_names):\n",
    "    explainer = LimeTextExplainer(class_names=class_names)\n",
    "    exp = explainer.explain_instance(instance, tokenizeText, num_features=300)\n",
    "    return exp\n",
    "\n",
    "def visualize_one_exp(features, labels, index, class_names = names):\n",
    "    exp = explain_one_instance(features[index], class_names = class_names)\n",
    "    print('Index: %d' % index)\n",
    "    print('True class: %s' % class_names[labels[index]])\n",
    "    exp.show_in_notebook(text=True)\n",
    "\n"
   ]
  },
  {
   "cell_type": "code",
   "execution_count": 237,
   "metadata": {
    "colab": {
     "autoexec": {
      "startup": false,
      "wait_interval": 0
     },
     "base_uri": "https://localhost:8080/",
     "height": 609,
     "output_extras": [
      {
       "item_id": 1
      },
      {
       "item_id": 2
      }
     ]
    },
    "colab_type": "code",
    "executionInfo": {
     "elapsed": 7297,
     "status": "error",
     "timestamp": 1520868093266,
     "user": {
      "displayName": "RAUNAK ROBINKUMAR AGARWAL 1540239",
      "photoUrl": "https://lh3.googleusercontent.com/a/default-user=s128",
      "userId": "109577210923723476478"
     },
     "user_tz": -330
    },
    "id": "w5iMTrPQyCMP",
    "outputId": "7b520892-88aa-41a4-e616-bdb1193d7fa7"
   },
   "outputs": [
    {
     "name": "stderr",
     "output_type": "stream",
     "text": [
      "/usr/lib/python3.6/re.py:212: FutureWarning: split() requires a non-empty pattern match.\n",
      "  return _compile(pattern, flags).split(string, maxsplit)\n"
     ]
    },
    {
     "ename": "IndexError",
     "evalue": "ignored",
     "output_type": "error",
     "traceback": [
      "\u001b[0;31m---------------------------------------------------------------------------\u001b[0m",
      "\u001b[0;31mIndexError\u001b[0m                                Traceback (most recent call last)",
      "\u001b[0;32m<ipython-input-237-ac1a363e786e>\u001b[0m in \u001b[0;36m<module>\u001b[0;34m()\u001b[0m\n\u001b[1;32m      5\u001b[0m \u001b[0;31m#visualize_one_exp(test_featurized['text'], test_featurized['intent'], 5)\u001b[0m\u001b[0;34m\u001b[0m\u001b[0;34m\u001b[0m\u001b[0m\n\u001b[1;32m      6\u001b[0m \u001b[0;34m\u001b[0m\u001b[0m\n\u001b[0;32m----> 7\u001b[0;31m \u001b[0mexplain_one_instance\u001b[0m\u001b[0;34m(\u001b[0m\u001b[0;34m\"Hi i want to fix my printer\"\u001b[0m\u001b[0;34m,\u001b[0m \u001b[0mnames\u001b[0m\u001b[0;34m)\u001b[0m\u001b[0;34m\u001b[0m\u001b[0m\n\u001b[0m",
      "\u001b[0;32m<ipython-input-236-0b7591d1fbf9>\u001b[0m in \u001b[0;36mexplain_one_instance\u001b[0;34m(instance, class_names)\u001b[0m\n\u001b[1;32m      1\u001b[0m \u001b[0;32mdef\u001b[0m \u001b[0mexplain_one_instance\u001b[0m\u001b[0;34m(\u001b[0m\u001b[0minstance\u001b[0m\u001b[0;34m,\u001b[0m \u001b[0mclass_names\u001b[0m\u001b[0;34m)\u001b[0m\u001b[0;34m:\u001b[0m\u001b[0;34m\u001b[0m\u001b[0m\n\u001b[1;32m      2\u001b[0m     \u001b[0mexplainer\u001b[0m \u001b[0;34m=\u001b[0m \u001b[0mLimeTextExplainer\u001b[0m\u001b[0;34m(\u001b[0m\u001b[0mclass_names\u001b[0m\u001b[0;34m=\u001b[0m\u001b[0mclass_names\u001b[0m\u001b[0;34m)\u001b[0m\u001b[0;34m\u001b[0m\u001b[0m\n\u001b[0;32m----> 3\u001b[0;31m     \u001b[0mexp\u001b[0m \u001b[0;34m=\u001b[0m \u001b[0mexplainer\u001b[0m\u001b[0;34m.\u001b[0m\u001b[0mexplain_instance\u001b[0m\u001b[0;34m(\u001b[0m\u001b[0minstance\u001b[0m\u001b[0;34m,\u001b[0m \u001b[0mtokenizeText\u001b[0m\u001b[0;34m,\u001b[0m \u001b[0mnum_features\u001b[0m\u001b[0;34m=\u001b[0m\u001b[0;36m300\u001b[0m\u001b[0;34m)\u001b[0m\u001b[0;34m\u001b[0m\u001b[0m\n\u001b[0m\u001b[1;32m      4\u001b[0m     \u001b[0;32mreturn\u001b[0m \u001b[0mexp\u001b[0m\u001b[0;34m\u001b[0m\u001b[0m\n\u001b[1;32m      5\u001b[0m \u001b[0;34m\u001b[0m\u001b[0m\n",
      "\u001b[0;32m/usr/local/lib/python3.6/dist-packages/lime/lime_text.py\u001b[0m in \u001b[0;36mexplain_instance\u001b[0;34m(self, text_instance, classifier_fn, labels, top_labels, num_features, num_samples, distance_metric, model_regressor)\u001b[0m\n\u001b[1;32m    279\u001b[0m                 \u001b[0mdata\u001b[0m\u001b[0;34m,\u001b[0m \u001b[0myss\u001b[0m\u001b[0;34m,\u001b[0m \u001b[0mdistances\u001b[0m\u001b[0;34m,\u001b[0m \u001b[0mlabel\u001b[0m\u001b[0;34m,\u001b[0m \u001b[0mnum_features\u001b[0m\u001b[0;34m,\u001b[0m\u001b[0;34m\u001b[0m\u001b[0m\n\u001b[1;32m    280\u001b[0m                 \u001b[0mmodel_regressor\u001b[0m\u001b[0;34m=\u001b[0m\u001b[0mmodel_regressor\u001b[0m\u001b[0;34m,\u001b[0m\u001b[0;34m\u001b[0m\u001b[0m\n\u001b[0;32m--> 281\u001b[0;31m                 feature_selection=self.feature_selection)\n\u001b[0m\u001b[1;32m    282\u001b[0m         \u001b[0;32mreturn\u001b[0m \u001b[0mret_exp\u001b[0m\u001b[0;34m\u001b[0m\u001b[0m\n\u001b[1;32m    283\u001b[0m \u001b[0;34m\u001b[0m\u001b[0m\n",
      "\u001b[0;32m/usr/local/lib/python3.6/dist-packages/lime/lime_base.py\u001b[0m in \u001b[0;36mexplain_instance_with_data\u001b[0;34m(self, neighborhood_data, neighborhood_labels, distances, label, num_features, feature_selection, model_regressor)\u001b[0m\n\u001b[1;32m    150\u001b[0m \u001b[0;34m\u001b[0m\u001b[0m\n\u001b[1;32m    151\u001b[0m         \u001b[0mweights\u001b[0m \u001b[0;34m=\u001b[0m \u001b[0mself\u001b[0m\u001b[0;34m.\u001b[0m\u001b[0mkernel_fn\u001b[0m\u001b[0;34m(\u001b[0m\u001b[0mdistances\u001b[0m\u001b[0;34m)\u001b[0m\u001b[0;34m\u001b[0m\u001b[0m\n\u001b[0;32m--> 152\u001b[0;31m         \u001b[0mlabels_column\u001b[0m \u001b[0;34m=\u001b[0m \u001b[0mneighborhood_labels\u001b[0m\u001b[0;34m[\u001b[0m\u001b[0;34m:\u001b[0m\u001b[0;34m,\u001b[0m \u001b[0mlabel\u001b[0m\u001b[0;34m]\u001b[0m\u001b[0;34m\u001b[0m\u001b[0m\n\u001b[0m\u001b[1;32m    153\u001b[0m         used_features = self.feature_selection(neighborhood_data,\n\u001b[1;32m    154\u001b[0m                                                \u001b[0mlabels_column\u001b[0m\u001b[0;34m,\u001b[0m\u001b[0;34m\u001b[0m\u001b[0m\n",
      "\u001b[0;31mIndexError\u001b[0m: too many indices for array"
     ]
    }
   ],
   "source": [
    "pipe2 = Pipeline([\n",
    "  ('word2vec_featurize', Word2Vectorizer),\n",
    "  ('feature_selection', SelectFromModel(LinearSVC(penalty=\"l1\",dual=False))),\n",
    "  ('classification', LinearSVC(penalty=\"l2\"))])\n",
    "#visualize_one_exp(test_featurized['text'], test_featurized['intent'], 5)\n",
    "\n",
    "explain_one_instance(\"Hi i want to fix my printer\", names)"
   ]
  }
 ],
 "metadata": {
  "accelerator": "GPU",
  "colab": {
   "default_view": {},
   "name": "Untitled0.ipynb",
   "provenance": [],
   "version": "0.3.2",
   "views": {}
  },
  "kernelspec": {
   "display_name": "Python 3",
   "language": "python",
   "name": "python3"
  },
  "language_info": {
   "codemirror_mode": {
    "name": "ipython",
    "version": 3
   },
   "file_extension": ".py",
   "mimetype": "text/x-python",
   "name": "python",
   "nbconvert_exporter": "python",
   "pygments_lexer": "ipython3",
   "version": "3.6.4"
  }
 },
 "nbformat": 4,
 "nbformat_minor": 1
}
